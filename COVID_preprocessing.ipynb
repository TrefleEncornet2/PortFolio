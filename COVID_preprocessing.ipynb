{
 "cells": [
  {
   "cell_type": "markdown",
   "metadata": {},
   "source": [
    "# PRE-PROCESSING Covid Project.\n",
    "The aim of this part is not to create the best machine-learning algorithm. What we intend to do here is to check what are the pre-processings that will be usefull for our project. As a result, bench of things were tested, some worked, some didn't. But at the end of the day, we gained some clear insight on what we need to do to create a good machine learning program.\n",
    "\n",
    "What will be seen here:\n",
    "- Creation of a pipeline\n",
    "- Utilisation of Polynomial features\n",
    "- Utilisation of metrics such as the recall, F1-score, PR curves, confusion matrices to evaluate our models.\n",
    "- How to check which feature in important for our model\n",
    "- Basic ML procedures (train/test set, dealing with NaN etc...)\n",
    "## Import the relevant libraries"
   ]
  },
  {
   "cell_type": "code",
   "execution_count": 95,
   "metadata": {},
   "outputs": [],
   "source": [
    "import matplotlib.pyplot as plt\n",
    "import numpy as np\n",
    "import seaborn as sns\n",
    "import pandas as pd\n",
    "sns.set()"
   ]
  },
  {
   "cell_type": "markdown",
   "metadata": {},
   "source": [
    "## Load the dataset"
   ]
  },
  {
   "cell_type": "code",
   "execution_count": 96,
   "metadata": {},
   "outputs": [],
   "source": [
    "path = 'C://Users//foucardguimax//Desktop//PortFolio//Dataset.xlsx'\n",
    "raw_data = pd.read_excel(path)\n",
    "df = raw_data.copy()\n",
    "\n",
    "pd.set_option('display.max_row', df.shape[1])\n",
    "pd.set_option('display.max_columns', df.shape[1])"
   ]
  },
  {
   "cell_type": "code",
   "execution_count": 97,
   "metadata": {},
   "outputs": [
    {
     "data": {
      "text/html": [
       "<div>\n",
       "<style scoped>\n",
       "    .dataframe tbody tr th:only-of-type {\n",
       "        vertical-align: middle;\n",
       "    }\n",
       "\n",
       "    .dataframe tbody tr th {\n",
       "        vertical-align: top;\n",
       "    }\n",
       "\n",
       "    .dataframe thead th {\n",
       "        text-align: right;\n",
       "    }\n",
       "</style>\n",
       "<table border=\"1\" class=\"dataframe\">\n",
       "  <thead>\n",
       "    <tr style=\"text-align: right;\">\n",
       "      <th></th>\n",
       "      <th>Patient ID</th>\n",
       "      <th>Patient age quantile</th>\n",
       "      <th>SARS-Cov-2 exam result</th>\n",
       "      <th>Patient addmited to regular ward (1=yes, 0=no)</th>\n",
       "      <th>Patient addmited to semi-intensive unit (1=yes, 0=no)</th>\n",
       "      <th>Patient addmited to intensive care unit (1=yes, 0=no)</th>\n",
       "      <th>Hematocrit</th>\n",
       "      <th>Hemoglobin</th>\n",
       "      <th>Platelets</th>\n",
       "      <th>Mean platelet volume</th>\n",
       "      <th>Red blood Cells</th>\n",
       "      <th>Lymphocytes</th>\n",
       "      <th>Mean corpuscular hemoglobin concentration (MCHC)</th>\n",
       "      <th>Leukocytes</th>\n",
       "      <th>Basophils</th>\n",
       "      <th>Mean corpuscular hemoglobin (MCH)</th>\n",
       "      <th>Eosinophils</th>\n",
       "      <th>Mean corpuscular volume (MCV)</th>\n",
       "      <th>Monocytes</th>\n",
       "      <th>Red blood cell distribution width (RDW)</th>\n",
       "      <th>Serum Glucose</th>\n",
       "      <th>Respiratory Syncytial Virus</th>\n",
       "      <th>Influenza A</th>\n",
       "      <th>Influenza B</th>\n",
       "      <th>Parainfluenza 1</th>\n",
       "      <th>CoronavirusNL63</th>\n",
       "      <th>Rhinovirus/Enterovirus</th>\n",
       "      <th>Mycoplasma pneumoniae</th>\n",
       "      <th>Coronavirus HKU1</th>\n",
       "      <th>Parainfluenza 3</th>\n",
       "      <th>Chlamydophila pneumoniae</th>\n",
       "      <th>Adenovirus</th>\n",
       "      <th>Parainfluenza 4</th>\n",
       "      <th>Coronavirus229E</th>\n",
       "      <th>CoronavirusOC43</th>\n",
       "      <th>Inf A H1N1 2009</th>\n",
       "      <th>Bordetella pertussis</th>\n",
       "      <th>Metapneumovirus</th>\n",
       "      <th>Parainfluenza 2</th>\n",
       "      <th>Neutrophils</th>\n",
       "      <th>Urea</th>\n",
       "      <th>Proteina C reativa mg/dL</th>\n",
       "      <th>Creatinine</th>\n",
       "      <th>Potassium</th>\n",
       "      <th>Sodium</th>\n",
       "      <th>Influenza B, rapid test</th>\n",
       "      <th>Influenza A, rapid test</th>\n",
       "      <th>Alanine transaminase</th>\n",
       "      <th>Aspartate transaminase</th>\n",
       "      <th>Gamma-glutamyltransferase</th>\n",
       "      <th>Total Bilirubin</th>\n",
       "      <th>Direct Bilirubin</th>\n",
       "      <th>Indirect Bilirubin</th>\n",
       "      <th>Alkaline phosphatase</th>\n",
       "      <th>Ionized calcium</th>\n",
       "      <th>Strepto A</th>\n",
       "      <th>Magnesium</th>\n",
       "      <th>pCO2 (venous blood gas analysis)</th>\n",
       "      <th>Hb saturation (venous blood gas analysis)</th>\n",
       "      <th>Base excess (venous blood gas analysis)</th>\n",
       "      <th>pO2 (venous blood gas analysis)</th>\n",
       "      <th>Fio2 (venous blood gas analysis)</th>\n",
       "      <th>Total CO2 (venous blood gas analysis)</th>\n",
       "      <th>pH (venous blood gas analysis)</th>\n",
       "      <th>HCO3 (venous blood gas analysis)</th>\n",
       "      <th>Rods #</th>\n",
       "      <th>Segmented</th>\n",
       "      <th>Promyelocytes</th>\n",
       "      <th>Metamyelocytes</th>\n",
       "      <th>Myelocytes</th>\n",
       "      <th>Myeloblasts</th>\n",
       "      <th>Urine - Esterase</th>\n",
       "      <th>Urine - Aspect</th>\n",
       "      <th>Urine - pH</th>\n",
       "      <th>Urine - Hemoglobin</th>\n",
       "      <th>Urine - Bile pigments</th>\n",
       "      <th>Urine - Ketone Bodies</th>\n",
       "      <th>Urine - Nitrite</th>\n",
       "      <th>Urine - Density</th>\n",
       "      <th>Urine - Urobilinogen</th>\n",
       "      <th>Urine - Protein</th>\n",
       "      <th>Urine - Sugar</th>\n",
       "      <th>Urine - Leukocytes</th>\n",
       "      <th>Urine - Crystals</th>\n",
       "      <th>Urine - Red blood cells</th>\n",
       "      <th>Urine - Hyaline cylinders</th>\n",
       "      <th>Urine - Granular cylinders</th>\n",
       "      <th>Urine - Yeasts</th>\n",
       "      <th>Urine - Color</th>\n",
       "      <th>Partial thromboplastin time (PTT)</th>\n",
       "      <th>Relationship (Patient/Normal)</th>\n",
       "      <th>International normalized ratio (INR)</th>\n",
       "      <th>Lactic Dehydrogenase</th>\n",
       "      <th>Prothrombin time (PT), Activity</th>\n",
       "      <th>Vitamin B12</th>\n",
       "      <th>Creatine phosphokinase (CPK)</th>\n",
       "      <th>Ferritin</th>\n",
       "      <th>Arterial Lactic Acid</th>\n",
       "      <th>Lipase dosage</th>\n",
       "      <th>D-Dimer</th>\n",
       "      <th>Albumin</th>\n",
       "      <th>Hb saturation (arterial blood gases)</th>\n",
       "      <th>pCO2 (arterial blood gas analysis)</th>\n",
       "      <th>Base excess (arterial blood gas analysis)</th>\n",
       "      <th>pH (arterial blood gas analysis)</th>\n",
       "      <th>Total CO2 (arterial blood gas analysis)</th>\n",
       "      <th>HCO3 (arterial blood gas analysis)</th>\n",
       "      <th>pO2 (arterial blood gas analysis)</th>\n",
       "      <th>Arteiral Fio2</th>\n",
       "      <th>Phosphor</th>\n",
       "      <th>ctO2 (arterial blood gas analysis)</th>\n",
       "    </tr>\n",
       "  </thead>\n",
       "  <tbody>\n",
       "    <tr>\n",
       "      <th>0</th>\n",
       "      <td>44477f75e8169d2</td>\n",
       "      <td>13</td>\n",
       "      <td>negative</td>\n",
       "      <td>0</td>\n",
       "      <td>0</td>\n",
       "      <td>0</td>\n",
       "      <td>NaN</td>\n",
       "      <td>NaN</td>\n",
       "      <td>NaN</td>\n",
       "      <td>NaN</td>\n",
       "      <td>NaN</td>\n",
       "      <td>NaN</td>\n",
       "      <td>NaN</td>\n",
       "      <td>NaN</td>\n",
       "      <td>NaN</td>\n",
       "      <td>NaN</td>\n",
       "      <td>NaN</td>\n",
       "      <td>NaN</td>\n",
       "      <td>NaN</td>\n",
       "      <td>NaN</td>\n",
       "      <td>NaN</td>\n",
       "      <td>NaN</td>\n",
       "      <td>NaN</td>\n",
       "      <td>NaN</td>\n",
       "      <td>NaN</td>\n",
       "      <td>NaN</td>\n",
       "      <td>NaN</td>\n",
       "      <td>NaN</td>\n",
       "      <td>NaN</td>\n",
       "      <td>NaN</td>\n",
       "      <td>NaN</td>\n",
       "      <td>NaN</td>\n",
       "      <td>NaN</td>\n",
       "      <td>NaN</td>\n",
       "      <td>NaN</td>\n",
       "      <td>NaN</td>\n",
       "      <td>NaN</td>\n",
       "      <td>NaN</td>\n",
       "      <td>NaN</td>\n",
       "      <td>NaN</td>\n",
       "      <td>NaN</td>\n",
       "      <td>NaN</td>\n",
       "      <td>NaN</td>\n",
       "      <td>NaN</td>\n",
       "      <td>NaN</td>\n",
       "      <td>NaN</td>\n",
       "      <td>NaN</td>\n",
       "      <td>NaN</td>\n",
       "      <td>NaN</td>\n",
       "      <td>NaN</td>\n",
       "      <td>NaN</td>\n",
       "      <td>NaN</td>\n",
       "      <td>NaN</td>\n",
       "      <td>NaN</td>\n",
       "      <td>NaN</td>\n",
       "      <td>NaN</td>\n",
       "      <td>NaN</td>\n",
       "      <td>NaN</td>\n",
       "      <td>NaN</td>\n",
       "      <td>NaN</td>\n",
       "      <td>NaN</td>\n",
       "      <td>NaN</td>\n",
       "      <td>NaN</td>\n",
       "      <td>NaN</td>\n",
       "      <td>NaN</td>\n",
       "      <td>NaN</td>\n",
       "      <td>NaN</td>\n",
       "      <td>NaN</td>\n",
       "      <td>NaN</td>\n",
       "      <td>NaN</td>\n",
       "      <td>NaN</td>\n",
       "      <td>NaN</td>\n",
       "      <td>NaN</td>\n",
       "      <td>NaN</td>\n",
       "      <td>NaN</td>\n",
       "      <td>NaN</td>\n",
       "      <td>NaN</td>\n",
       "      <td>NaN</td>\n",
       "      <td>NaN</td>\n",
       "      <td>NaN</td>\n",
       "      <td>NaN</td>\n",
       "      <td>NaN</td>\n",
       "      <td>NaN</td>\n",
       "      <td>NaN</td>\n",
       "      <td>NaN</td>\n",
       "      <td>NaN</td>\n",
       "      <td>NaN</td>\n",
       "      <td>NaN</td>\n",
       "      <td>NaN</td>\n",
       "      <td>NaN</td>\n",
       "      <td>NaN</td>\n",
       "      <td>NaN</td>\n",
       "      <td>NaN</td>\n",
       "      <td>NaN</td>\n",
       "      <td>NaN</td>\n",
       "      <td>NaN</td>\n",
       "      <td>NaN</td>\n",
       "      <td>NaN</td>\n",
       "      <td>NaN</td>\n",
       "      <td>NaN</td>\n",
       "      <td>NaN</td>\n",
       "      <td>NaN</td>\n",
       "      <td>NaN</td>\n",
       "      <td>NaN</td>\n",
       "      <td>NaN</td>\n",
       "      <td>NaN</td>\n",
       "      <td>NaN</td>\n",
       "      <td>NaN</td>\n",
       "      <td>NaN</td>\n",
       "      <td>NaN</td>\n",
       "      <td>NaN</td>\n",
       "    </tr>\n",
       "    <tr>\n",
       "      <th>1</th>\n",
       "      <td>126e9dd13932f68</td>\n",
       "      <td>17</td>\n",
       "      <td>negative</td>\n",
       "      <td>0</td>\n",
       "      <td>0</td>\n",
       "      <td>0</td>\n",
       "      <td>0.236515</td>\n",
       "      <td>-0.02234</td>\n",
       "      <td>-0.517413</td>\n",
       "      <td>0.010677</td>\n",
       "      <td>0.102004</td>\n",
       "      <td>0.318366</td>\n",
       "      <td>-0.95079</td>\n",
       "      <td>-0.09461</td>\n",
       "      <td>-0.223767</td>\n",
       "      <td>-0.292269</td>\n",
       "      <td>1.482158</td>\n",
       "      <td>0.166192</td>\n",
       "      <td>0.357547</td>\n",
       "      <td>-0.625073</td>\n",
       "      <td>-0.140648</td>\n",
       "      <td>not_detected</td>\n",
       "      <td>not_detected</td>\n",
       "      <td>not_detected</td>\n",
       "      <td>not_detected</td>\n",
       "      <td>not_detected</td>\n",
       "      <td>detected</td>\n",
       "      <td>NaN</td>\n",
       "      <td>not_detected</td>\n",
       "      <td>not_detected</td>\n",
       "      <td>not_detected</td>\n",
       "      <td>not_detected</td>\n",
       "      <td>not_detected</td>\n",
       "      <td>not_detected</td>\n",
       "      <td>not_detected</td>\n",
       "      <td>not_detected</td>\n",
       "      <td>not_detected</td>\n",
       "      <td>not_detected</td>\n",
       "      <td>not_detected</td>\n",
       "      <td>-0.619086</td>\n",
       "      <td>1.198059</td>\n",
       "      <td>-0.147895</td>\n",
       "      <td>2.089928</td>\n",
       "      <td>-0.305787</td>\n",
       "      <td>0.862512</td>\n",
       "      <td>negative</td>\n",
       "      <td>negative</td>\n",
       "      <td>NaN</td>\n",
       "      <td>NaN</td>\n",
       "      <td>NaN</td>\n",
       "      <td>NaN</td>\n",
       "      <td>NaN</td>\n",
       "      <td>NaN</td>\n",
       "      <td>NaN</td>\n",
       "      <td>NaN</td>\n",
       "      <td>NaN</td>\n",
       "      <td>NaN</td>\n",
       "      <td>NaN</td>\n",
       "      <td>NaN</td>\n",
       "      <td>NaN</td>\n",
       "      <td>NaN</td>\n",
       "      <td>NaN</td>\n",
       "      <td>NaN</td>\n",
       "      <td>NaN</td>\n",
       "      <td>NaN</td>\n",
       "      <td>NaN</td>\n",
       "      <td>NaN</td>\n",
       "      <td>NaN</td>\n",
       "      <td>NaN</td>\n",
       "      <td>NaN</td>\n",
       "      <td>NaN</td>\n",
       "      <td>NaN</td>\n",
       "      <td>NaN</td>\n",
       "      <td>NaN</td>\n",
       "      <td>NaN</td>\n",
       "      <td>NaN</td>\n",
       "      <td>NaN</td>\n",
       "      <td>NaN</td>\n",
       "      <td>NaN</td>\n",
       "      <td>NaN</td>\n",
       "      <td>NaN</td>\n",
       "      <td>NaN</td>\n",
       "      <td>NaN</td>\n",
       "      <td>NaN</td>\n",
       "      <td>NaN</td>\n",
       "      <td>NaN</td>\n",
       "      <td>NaN</td>\n",
       "      <td>NaN</td>\n",
       "      <td>NaN</td>\n",
       "      <td>NaN</td>\n",
       "      <td>NaN</td>\n",
       "      <td>NaN</td>\n",
       "      <td>NaN</td>\n",
       "      <td>NaN</td>\n",
       "      <td>NaN</td>\n",
       "      <td>NaN</td>\n",
       "      <td>NaN</td>\n",
       "      <td>NaN</td>\n",
       "      <td>NaN</td>\n",
       "      <td>NaN</td>\n",
       "      <td>NaN</td>\n",
       "      <td>NaN</td>\n",
       "      <td>NaN</td>\n",
       "      <td>NaN</td>\n",
       "      <td>NaN</td>\n",
       "      <td>NaN</td>\n",
       "      <td>NaN</td>\n",
       "      <td>NaN</td>\n",
       "      <td>NaN</td>\n",
       "      <td>NaN</td>\n",
       "      <td>NaN</td>\n",
       "    </tr>\n",
       "    <tr>\n",
       "      <th>2</th>\n",
       "      <td>a46b4402a0e5696</td>\n",
       "      <td>8</td>\n",
       "      <td>negative</td>\n",
       "      <td>0</td>\n",
       "      <td>0</td>\n",
       "      <td>0</td>\n",
       "      <td>NaN</td>\n",
       "      <td>NaN</td>\n",
       "      <td>NaN</td>\n",
       "      <td>NaN</td>\n",
       "      <td>NaN</td>\n",
       "      <td>NaN</td>\n",
       "      <td>NaN</td>\n",
       "      <td>NaN</td>\n",
       "      <td>NaN</td>\n",
       "      <td>NaN</td>\n",
       "      <td>NaN</td>\n",
       "      <td>NaN</td>\n",
       "      <td>NaN</td>\n",
       "      <td>NaN</td>\n",
       "      <td>NaN</td>\n",
       "      <td>NaN</td>\n",
       "      <td>NaN</td>\n",
       "      <td>NaN</td>\n",
       "      <td>NaN</td>\n",
       "      <td>NaN</td>\n",
       "      <td>NaN</td>\n",
       "      <td>NaN</td>\n",
       "      <td>NaN</td>\n",
       "      <td>NaN</td>\n",
       "      <td>NaN</td>\n",
       "      <td>NaN</td>\n",
       "      <td>NaN</td>\n",
       "      <td>NaN</td>\n",
       "      <td>NaN</td>\n",
       "      <td>NaN</td>\n",
       "      <td>NaN</td>\n",
       "      <td>NaN</td>\n",
       "      <td>NaN</td>\n",
       "      <td>NaN</td>\n",
       "      <td>NaN</td>\n",
       "      <td>NaN</td>\n",
       "      <td>NaN</td>\n",
       "      <td>NaN</td>\n",
       "      <td>NaN</td>\n",
       "      <td>NaN</td>\n",
       "      <td>NaN</td>\n",
       "      <td>NaN</td>\n",
       "      <td>NaN</td>\n",
       "      <td>NaN</td>\n",
       "      <td>NaN</td>\n",
       "      <td>NaN</td>\n",
       "      <td>NaN</td>\n",
       "      <td>NaN</td>\n",
       "      <td>NaN</td>\n",
       "      <td>NaN</td>\n",
       "      <td>NaN</td>\n",
       "      <td>NaN</td>\n",
       "      <td>NaN</td>\n",
       "      <td>NaN</td>\n",
       "      <td>NaN</td>\n",
       "      <td>NaN</td>\n",
       "      <td>NaN</td>\n",
       "      <td>NaN</td>\n",
       "      <td>NaN</td>\n",
       "      <td>NaN</td>\n",
       "      <td>NaN</td>\n",
       "      <td>NaN</td>\n",
       "      <td>NaN</td>\n",
       "      <td>NaN</td>\n",
       "      <td>NaN</td>\n",
       "      <td>NaN</td>\n",
       "      <td>NaN</td>\n",
       "      <td>NaN</td>\n",
       "      <td>NaN</td>\n",
       "      <td>NaN</td>\n",
       "      <td>NaN</td>\n",
       "      <td>NaN</td>\n",
       "      <td>NaN</td>\n",
       "      <td>NaN</td>\n",
       "      <td>NaN</td>\n",
       "      <td>NaN</td>\n",
       "      <td>NaN</td>\n",
       "      <td>NaN</td>\n",
       "      <td>NaN</td>\n",
       "      <td>NaN</td>\n",
       "      <td>NaN</td>\n",
       "      <td>NaN</td>\n",
       "      <td>NaN</td>\n",
       "      <td>NaN</td>\n",
       "      <td>NaN</td>\n",
       "      <td>NaN</td>\n",
       "      <td>NaN</td>\n",
       "      <td>NaN</td>\n",
       "      <td>NaN</td>\n",
       "      <td>NaN</td>\n",
       "      <td>NaN</td>\n",
       "      <td>NaN</td>\n",
       "      <td>NaN</td>\n",
       "      <td>NaN</td>\n",
       "      <td>NaN</td>\n",
       "      <td>NaN</td>\n",
       "      <td>NaN</td>\n",
       "      <td>NaN</td>\n",
       "      <td>NaN</td>\n",
       "      <td>NaN</td>\n",
       "      <td>NaN</td>\n",
       "      <td>NaN</td>\n",
       "      <td>NaN</td>\n",
       "      <td>NaN</td>\n",
       "      <td>NaN</td>\n",
       "    </tr>\n",
       "    <tr>\n",
       "      <th>3</th>\n",
       "      <td>f7d619a94f97c45</td>\n",
       "      <td>5</td>\n",
       "      <td>negative</td>\n",
       "      <td>0</td>\n",
       "      <td>0</td>\n",
       "      <td>0</td>\n",
       "      <td>NaN</td>\n",
       "      <td>NaN</td>\n",
       "      <td>NaN</td>\n",
       "      <td>NaN</td>\n",
       "      <td>NaN</td>\n",
       "      <td>NaN</td>\n",
       "      <td>NaN</td>\n",
       "      <td>NaN</td>\n",
       "      <td>NaN</td>\n",
       "      <td>NaN</td>\n",
       "      <td>NaN</td>\n",
       "      <td>NaN</td>\n",
       "      <td>NaN</td>\n",
       "      <td>NaN</td>\n",
       "      <td>NaN</td>\n",
       "      <td>NaN</td>\n",
       "      <td>NaN</td>\n",
       "      <td>NaN</td>\n",
       "      <td>NaN</td>\n",
       "      <td>NaN</td>\n",
       "      <td>NaN</td>\n",
       "      <td>NaN</td>\n",
       "      <td>NaN</td>\n",
       "      <td>NaN</td>\n",
       "      <td>NaN</td>\n",
       "      <td>NaN</td>\n",
       "      <td>NaN</td>\n",
       "      <td>NaN</td>\n",
       "      <td>NaN</td>\n",
       "      <td>NaN</td>\n",
       "      <td>NaN</td>\n",
       "      <td>NaN</td>\n",
       "      <td>NaN</td>\n",
       "      <td>NaN</td>\n",
       "      <td>NaN</td>\n",
       "      <td>NaN</td>\n",
       "      <td>NaN</td>\n",
       "      <td>NaN</td>\n",
       "      <td>NaN</td>\n",
       "      <td>NaN</td>\n",
       "      <td>NaN</td>\n",
       "      <td>NaN</td>\n",
       "      <td>NaN</td>\n",
       "      <td>NaN</td>\n",
       "      <td>NaN</td>\n",
       "      <td>NaN</td>\n",
       "      <td>NaN</td>\n",
       "      <td>NaN</td>\n",
       "      <td>NaN</td>\n",
       "      <td>NaN</td>\n",
       "      <td>NaN</td>\n",
       "      <td>NaN</td>\n",
       "      <td>NaN</td>\n",
       "      <td>NaN</td>\n",
       "      <td>NaN</td>\n",
       "      <td>NaN</td>\n",
       "      <td>NaN</td>\n",
       "      <td>NaN</td>\n",
       "      <td>NaN</td>\n",
       "      <td>NaN</td>\n",
       "      <td>NaN</td>\n",
       "      <td>NaN</td>\n",
       "      <td>NaN</td>\n",
       "      <td>NaN</td>\n",
       "      <td>NaN</td>\n",
       "      <td>NaN</td>\n",
       "      <td>NaN</td>\n",
       "      <td>NaN</td>\n",
       "      <td>NaN</td>\n",
       "      <td>NaN</td>\n",
       "      <td>NaN</td>\n",
       "      <td>NaN</td>\n",
       "      <td>NaN</td>\n",
       "      <td>NaN</td>\n",
       "      <td>NaN</td>\n",
       "      <td>NaN</td>\n",
       "      <td>NaN</td>\n",
       "      <td>NaN</td>\n",
       "      <td>NaN</td>\n",
       "      <td>NaN</td>\n",
       "      <td>NaN</td>\n",
       "      <td>NaN</td>\n",
       "      <td>NaN</td>\n",
       "      <td>NaN</td>\n",
       "      <td>NaN</td>\n",
       "      <td>NaN</td>\n",
       "      <td>NaN</td>\n",
       "      <td>NaN</td>\n",
       "      <td>NaN</td>\n",
       "      <td>NaN</td>\n",
       "      <td>NaN</td>\n",
       "      <td>NaN</td>\n",
       "      <td>NaN</td>\n",
       "      <td>NaN</td>\n",
       "      <td>NaN</td>\n",
       "      <td>NaN</td>\n",
       "      <td>NaN</td>\n",
       "      <td>NaN</td>\n",
       "      <td>NaN</td>\n",
       "      <td>NaN</td>\n",
       "      <td>NaN</td>\n",
       "      <td>NaN</td>\n",
       "      <td>NaN</td>\n",
       "      <td>NaN</td>\n",
       "      <td>NaN</td>\n",
       "    </tr>\n",
       "    <tr>\n",
       "      <th>4</th>\n",
       "      <td>d9e41465789c2b5</td>\n",
       "      <td>15</td>\n",
       "      <td>negative</td>\n",
       "      <td>0</td>\n",
       "      <td>0</td>\n",
       "      <td>0</td>\n",
       "      <td>NaN</td>\n",
       "      <td>NaN</td>\n",
       "      <td>NaN</td>\n",
       "      <td>NaN</td>\n",
       "      <td>NaN</td>\n",
       "      <td>NaN</td>\n",
       "      <td>NaN</td>\n",
       "      <td>NaN</td>\n",
       "      <td>NaN</td>\n",
       "      <td>NaN</td>\n",
       "      <td>NaN</td>\n",
       "      <td>NaN</td>\n",
       "      <td>NaN</td>\n",
       "      <td>NaN</td>\n",
       "      <td>NaN</td>\n",
       "      <td>not_detected</td>\n",
       "      <td>not_detected</td>\n",
       "      <td>not_detected</td>\n",
       "      <td>not_detected</td>\n",
       "      <td>not_detected</td>\n",
       "      <td>detected</td>\n",
       "      <td>NaN</td>\n",
       "      <td>not_detected</td>\n",
       "      <td>not_detected</td>\n",
       "      <td>not_detected</td>\n",
       "      <td>not_detected</td>\n",
       "      <td>not_detected</td>\n",
       "      <td>not_detected</td>\n",
       "      <td>not_detected</td>\n",
       "      <td>not_detected</td>\n",
       "      <td>not_detected</td>\n",
       "      <td>not_detected</td>\n",
       "      <td>not_detected</td>\n",
       "      <td>NaN</td>\n",
       "      <td>NaN</td>\n",
       "      <td>NaN</td>\n",
       "      <td>NaN</td>\n",
       "      <td>NaN</td>\n",
       "      <td>NaN</td>\n",
       "      <td>NaN</td>\n",
       "      <td>NaN</td>\n",
       "      <td>NaN</td>\n",
       "      <td>NaN</td>\n",
       "      <td>NaN</td>\n",
       "      <td>NaN</td>\n",
       "      <td>NaN</td>\n",
       "      <td>NaN</td>\n",
       "      <td>NaN</td>\n",
       "      <td>NaN</td>\n",
       "      <td>NaN</td>\n",
       "      <td>NaN</td>\n",
       "      <td>NaN</td>\n",
       "      <td>NaN</td>\n",
       "      <td>NaN</td>\n",
       "      <td>NaN</td>\n",
       "      <td>NaN</td>\n",
       "      <td>NaN</td>\n",
       "      <td>NaN</td>\n",
       "      <td>NaN</td>\n",
       "      <td>NaN</td>\n",
       "      <td>NaN</td>\n",
       "      <td>NaN</td>\n",
       "      <td>NaN</td>\n",
       "      <td>NaN</td>\n",
       "      <td>NaN</td>\n",
       "      <td>NaN</td>\n",
       "      <td>NaN</td>\n",
       "      <td>NaN</td>\n",
       "      <td>NaN</td>\n",
       "      <td>NaN</td>\n",
       "      <td>NaN</td>\n",
       "      <td>NaN</td>\n",
       "      <td>NaN</td>\n",
       "      <td>NaN</td>\n",
       "      <td>NaN</td>\n",
       "      <td>NaN</td>\n",
       "      <td>NaN</td>\n",
       "      <td>NaN</td>\n",
       "      <td>NaN</td>\n",
       "      <td>NaN</td>\n",
       "      <td>NaN</td>\n",
       "      <td>NaN</td>\n",
       "      <td>NaN</td>\n",
       "      <td>NaN</td>\n",
       "      <td>NaN</td>\n",
       "      <td>NaN</td>\n",
       "      <td>NaN</td>\n",
       "      <td>NaN</td>\n",
       "      <td>NaN</td>\n",
       "      <td>NaN</td>\n",
       "      <td>NaN</td>\n",
       "      <td>NaN</td>\n",
       "      <td>NaN</td>\n",
       "      <td>NaN</td>\n",
       "      <td>NaN</td>\n",
       "      <td>NaN</td>\n",
       "      <td>NaN</td>\n",
       "      <td>NaN</td>\n",
       "      <td>NaN</td>\n",
       "      <td>NaN</td>\n",
       "      <td>NaN</td>\n",
       "      <td>NaN</td>\n",
       "      <td>NaN</td>\n",
       "      <td>NaN</td>\n",
       "      <td>NaN</td>\n",
       "    </tr>\n",
       "  </tbody>\n",
       "</table>\n",
       "</div>"
      ],
      "text/plain": [
       "        Patient ID  Patient age quantile SARS-Cov-2 exam result  \\\n",
       "0  44477f75e8169d2                    13               negative   \n",
       "1  126e9dd13932f68                    17               negative   \n",
       "2  a46b4402a0e5696                     8               negative   \n",
       "3  f7d619a94f97c45                     5               negative   \n",
       "4  d9e41465789c2b5                    15               negative   \n",
       "\n",
       "   Patient addmited to regular ward (1=yes, 0=no)  \\\n",
       "0                                               0   \n",
       "1                                               0   \n",
       "2                                               0   \n",
       "3                                               0   \n",
       "4                                               0   \n",
       "\n",
       "   Patient addmited to semi-intensive unit (1=yes, 0=no)  \\\n",
       "0                                                  0       \n",
       "1                                                  0       \n",
       "2                                                  0       \n",
       "3                                                  0       \n",
       "4                                                  0       \n",
       "\n",
       "   Patient addmited to intensive care unit (1=yes, 0=no)  Hematocrit  \\\n",
       "0                                                  0             NaN   \n",
       "1                                                  0        0.236515   \n",
       "2                                                  0             NaN   \n",
       "3                                                  0             NaN   \n",
       "4                                                  0             NaN   \n",
       "\n",
       "   Hemoglobin  Platelets  Mean platelet volume   Red blood Cells  Lymphocytes  \\\n",
       "0         NaN        NaN                    NaN              NaN          NaN   \n",
       "1    -0.02234  -0.517413               0.010677         0.102004     0.318366   \n",
       "2         NaN        NaN                    NaN              NaN          NaN   \n",
       "3         NaN        NaN                    NaN              NaN          NaN   \n",
       "4         NaN        NaN                    NaN              NaN          NaN   \n",
       "\n",
       "   Mean corpuscular hemoglobin concentration (MCHC)  Leukocytes  Basophils  \\\n",
       "0                                               NaN         NaN        NaN   \n",
       "1                                          -0.95079    -0.09461  -0.223767   \n",
       "2                                               NaN         NaN        NaN   \n",
       "3                                               NaN         NaN        NaN   \n",
       "4                                               NaN         NaN        NaN   \n",
       "\n",
       "   Mean corpuscular hemoglobin (MCH)  Eosinophils  \\\n",
       "0                                NaN          NaN   \n",
       "1                          -0.292269     1.482158   \n",
       "2                                NaN          NaN   \n",
       "3                                NaN          NaN   \n",
       "4                                NaN          NaN   \n",
       "\n",
       "   Mean corpuscular volume (MCV)  Monocytes  \\\n",
       "0                            NaN        NaN   \n",
       "1                       0.166192   0.357547   \n",
       "2                            NaN        NaN   \n",
       "3                            NaN        NaN   \n",
       "4                            NaN        NaN   \n",
       "\n",
       "   Red blood cell distribution width (RDW)  Serum Glucose  \\\n",
       "0                                      NaN            NaN   \n",
       "1                                -0.625073      -0.140648   \n",
       "2                                      NaN            NaN   \n",
       "3                                      NaN            NaN   \n",
       "4                                      NaN            NaN   \n",
       "\n",
       "  Respiratory Syncytial Virus   Influenza A   Influenza B Parainfluenza 1  \\\n",
       "0                         NaN           NaN           NaN             NaN   \n",
       "1                not_detected  not_detected  not_detected    not_detected   \n",
       "2                         NaN           NaN           NaN             NaN   \n",
       "3                         NaN           NaN           NaN             NaN   \n",
       "4                not_detected  not_detected  not_detected    not_detected   \n",
       "\n",
       "  CoronavirusNL63 Rhinovirus/Enterovirus  Mycoplasma pneumoniae  \\\n",
       "0             NaN                    NaN                    NaN   \n",
       "1    not_detected               detected                    NaN   \n",
       "2             NaN                    NaN                    NaN   \n",
       "3             NaN                    NaN                    NaN   \n",
       "4    not_detected               detected                    NaN   \n",
       "\n",
       "  Coronavirus HKU1 Parainfluenza 3 Chlamydophila pneumoniae    Adenovirus  \\\n",
       "0              NaN             NaN                      NaN           NaN   \n",
       "1     not_detected    not_detected             not_detected  not_detected   \n",
       "2              NaN             NaN                      NaN           NaN   \n",
       "3              NaN             NaN                      NaN           NaN   \n",
       "4     not_detected    not_detected             not_detected  not_detected   \n",
       "\n",
       "  Parainfluenza 4 Coronavirus229E CoronavirusOC43 Inf A H1N1 2009  \\\n",
       "0             NaN             NaN             NaN             NaN   \n",
       "1    not_detected    not_detected    not_detected    not_detected   \n",
       "2             NaN             NaN             NaN             NaN   \n",
       "3             NaN             NaN             NaN             NaN   \n",
       "4    not_detected    not_detected    not_detected    not_detected   \n",
       "\n",
       "  Bordetella pertussis Metapneumovirus Parainfluenza 2  Neutrophils      Urea  \\\n",
       "0                  NaN             NaN             NaN          NaN       NaN   \n",
       "1         not_detected    not_detected    not_detected    -0.619086  1.198059   \n",
       "2                  NaN             NaN             NaN          NaN       NaN   \n",
       "3                  NaN             NaN             NaN          NaN       NaN   \n",
       "4         not_detected    not_detected    not_detected          NaN       NaN   \n",
       "\n",
       "   Proteina C reativa mg/dL  Creatinine  Potassium    Sodium  \\\n",
       "0                       NaN         NaN        NaN       NaN   \n",
       "1                 -0.147895    2.089928  -0.305787  0.862512   \n",
       "2                       NaN         NaN        NaN       NaN   \n",
       "3                       NaN         NaN        NaN       NaN   \n",
       "4                       NaN         NaN        NaN       NaN   \n",
       "\n",
       "  Influenza B, rapid test Influenza A, rapid test  Alanine transaminase  \\\n",
       "0                     NaN                     NaN                   NaN   \n",
       "1                negative                negative                   NaN   \n",
       "2                     NaN                     NaN                   NaN   \n",
       "3                     NaN                     NaN                   NaN   \n",
       "4                     NaN                     NaN                   NaN   \n",
       "\n",
       "   Aspartate transaminase  Gamma-glutamyltransferase   Total Bilirubin  \\\n",
       "0                     NaN                         NaN              NaN   \n",
       "1                     NaN                         NaN              NaN   \n",
       "2                     NaN                         NaN              NaN   \n",
       "3                     NaN                         NaN              NaN   \n",
       "4                     NaN                         NaN              NaN   \n",
       "\n",
       "   Direct Bilirubin  Indirect Bilirubin  Alkaline phosphatase  \\\n",
       "0               NaN                 NaN                   NaN   \n",
       "1               NaN                 NaN                   NaN   \n",
       "2               NaN                 NaN                   NaN   \n",
       "3               NaN                 NaN                   NaN   \n",
       "4               NaN                 NaN                   NaN   \n",
       "\n",
       "   Ionized calcium  Strepto A  Magnesium  pCO2 (venous blood gas analysis)  \\\n",
       "0               NaN       NaN        NaN                               NaN   \n",
       "1               NaN       NaN        NaN                               NaN   \n",
       "2               NaN       NaN        NaN                               NaN   \n",
       "3               NaN       NaN        NaN                               NaN   \n",
       "4               NaN       NaN        NaN                               NaN   \n",
       "\n",
       "   Hb saturation (venous blood gas analysis)  \\\n",
       "0                                        NaN   \n",
       "1                                        NaN   \n",
       "2                                        NaN   \n",
       "3                                        NaN   \n",
       "4                                        NaN   \n",
       "\n",
       "   Base excess (venous blood gas analysis)  pO2 (venous blood gas analysis)  \\\n",
       "0                                      NaN                              NaN   \n",
       "1                                      NaN                              NaN   \n",
       "2                                      NaN                              NaN   \n",
       "3                                      NaN                              NaN   \n",
       "4                                      NaN                              NaN   \n",
       "\n",
       "   Fio2 (venous blood gas analysis)  Total CO2 (venous blood gas analysis)  \\\n",
       "0                               NaN                                    NaN   \n",
       "1                               NaN                                    NaN   \n",
       "2                               NaN                                    NaN   \n",
       "3                               NaN                                    NaN   \n",
       "4                               NaN                                    NaN   \n",
       "\n",
       "   pH (venous blood gas analysis)  HCO3 (venous blood gas analysis)  Rods #  \\\n",
       "0                             NaN                               NaN     NaN   \n",
       "1                             NaN                               NaN     NaN   \n",
       "2                             NaN                               NaN     NaN   \n",
       "3                             NaN                               NaN     NaN   \n",
       "4                             NaN                               NaN     NaN   \n",
       "\n",
       "   Segmented  Promyelocytes  Metamyelocytes  Myelocytes  Myeloblasts  \\\n",
       "0        NaN            NaN             NaN         NaN          NaN   \n",
       "1        NaN            NaN             NaN         NaN          NaN   \n",
       "2        NaN            NaN             NaN         NaN          NaN   \n",
       "3        NaN            NaN             NaN         NaN          NaN   \n",
       "4        NaN            NaN             NaN         NaN          NaN   \n",
       "\n",
       "  Urine - Esterase Urine - Aspect Urine - pH Urine - Hemoglobin  \\\n",
       "0              NaN            NaN        NaN                NaN   \n",
       "1              NaN            NaN        NaN                NaN   \n",
       "2              NaN            NaN        NaN                NaN   \n",
       "3              NaN            NaN        NaN                NaN   \n",
       "4              NaN            NaN        NaN                NaN   \n",
       "\n",
       "  Urine - Bile pigments Urine - Ketone Bodies Urine - Nitrite  \\\n",
       "0                   NaN                   NaN             NaN   \n",
       "1                   NaN                   NaN             NaN   \n",
       "2                   NaN                   NaN             NaN   \n",
       "3                   NaN                   NaN             NaN   \n",
       "4                   NaN                   NaN             NaN   \n",
       "\n",
       "   Urine - Density Urine - Urobilinogen Urine - Protein  Urine - Sugar  \\\n",
       "0              NaN                  NaN             NaN            NaN   \n",
       "1              NaN                  NaN             NaN            NaN   \n",
       "2              NaN                  NaN             NaN            NaN   \n",
       "3              NaN                  NaN             NaN            NaN   \n",
       "4              NaN                  NaN             NaN            NaN   \n",
       "\n",
       "  Urine - Leukocytes Urine - Crystals  Urine - Red blood cells  \\\n",
       "0                NaN              NaN                      NaN   \n",
       "1                NaN              NaN                      NaN   \n",
       "2                NaN              NaN                      NaN   \n",
       "3                NaN              NaN                      NaN   \n",
       "4                NaN              NaN                      NaN   \n",
       "\n",
       "  Urine - Hyaline cylinders Urine - Granular cylinders Urine - Yeasts  \\\n",
       "0                       NaN                        NaN            NaN   \n",
       "1                       NaN                        NaN            NaN   \n",
       "2                       NaN                        NaN            NaN   \n",
       "3                       NaN                        NaN            NaN   \n",
       "4                       NaN                        NaN            NaN   \n",
       "\n",
       "  Urine - Color  Partial thromboplastin time (PTT)   \\\n",
       "0           NaN                                 NaN   \n",
       "1           NaN                                 NaN   \n",
       "2           NaN                                 NaN   \n",
       "3           NaN                                 NaN   \n",
       "4           NaN                                 NaN   \n",
       "\n",
       "   Relationship (Patient/Normal)  International normalized ratio (INR)  \\\n",
       "0                            NaN                                   NaN   \n",
       "1                            NaN                                   NaN   \n",
       "2                            NaN                                   NaN   \n",
       "3                            NaN                                   NaN   \n",
       "4                            NaN                                   NaN   \n",
       "\n",
       "   Lactic Dehydrogenase  Prothrombin time (PT), Activity  Vitamin B12  \\\n",
       "0                   NaN                              NaN          NaN   \n",
       "1                   NaN                              NaN          NaN   \n",
       "2                   NaN                              NaN          NaN   \n",
       "3                   NaN                              NaN          NaN   \n",
       "4                   NaN                              NaN          NaN   \n",
       "\n",
       "   Creatine phosphokinase (CPK)   Ferritin  Arterial Lactic Acid  \\\n",
       "0                            NaN       NaN                   NaN   \n",
       "1                            NaN       NaN                   NaN   \n",
       "2                            NaN       NaN                   NaN   \n",
       "3                            NaN       NaN                   NaN   \n",
       "4                            NaN       NaN                   NaN   \n",
       "\n",
       "   Lipase dosage  D-Dimer  Albumin  Hb saturation (arterial blood gases)  \\\n",
       "0            NaN      NaN      NaN                                   NaN   \n",
       "1            NaN      NaN      NaN                                   NaN   \n",
       "2            NaN      NaN      NaN                                   NaN   \n",
       "3            NaN      NaN      NaN                                   NaN   \n",
       "4            NaN      NaN      NaN                                   NaN   \n",
       "\n",
       "   pCO2 (arterial blood gas analysis)  \\\n",
       "0                                 NaN   \n",
       "1                                 NaN   \n",
       "2                                 NaN   \n",
       "3                                 NaN   \n",
       "4                                 NaN   \n",
       "\n",
       "   Base excess (arterial blood gas analysis)  \\\n",
       "0                                        NaN   \n",
       "1                                        NaN   \n",
       "2                                        NaN   \n",
       "3                                        NaN   \n",
       "4                                        NaN   \n",
       "\n",
       "   pH (arterial blood gas analysis)  Total CO2 (arterial blood gas analysis)  \\\n",
       "0                               NaN                                      NaN   \n",
       "1                               NaN                                      NaN   \n",
       "2                               NaN                                      NaN   \n",
       "3                               NaN                                      NaN   \n",
       "4                               NaN                                      NaN   \n",
       "\n",
       "   HCO3 (arterial blood gas analysis)  pO2 (arterial blood gas analysis)  \\\n",
       "0                                 NaN                                NaN   \n",
       "1                                 NaN                                NaN   \n",
       "2                                 NaN                                NaN   \n",
       "3                                 NaN                                NaN   \n",
       "4                                 NaN                                NaN   \n",
       "\n",
       "   Arteiral Fio2  Phosphor  ctO2 (arterial blood gas analysis)  \n",
       "0            NaN       NaN                                 NaN  \n",
       "1            NaN       NaN                                 NaN  \n",
       "2            NaN       NaN                                 NaN  \n",
       "3            NaN       NaN                                 NaN  \n",
       "4            NaN       NaN                                 NaN  "
      ]
     },
     "execution_count": 97,
     "metadata": {},
     "output_type": "execute_result"
    }
   ],
   "source": [
    "df.head()"
   ]
  },
  {
   "cell_type": "markdown",
   "metadata": {},
   "source": [
    "We are back with the original dataset, with all its useless columns. We need to re-clean it and select only the features of interest that we spotted on the previous part of this project."
   ]
  },
  {
   "cell_type": "code",
   "execution_count": 98,
   "metadata": {},
   "outputs": [
    {
     "data": {
      "text/plain": [
       "Patient ID                                               0.000000\n",
       "Patient age quantile                                     0.000000\n",
       "SARS-Cov-2 exam result                                   0.000000\n",
       "Patient addmited to regular ward (1=yes, 0=no)           0.000000\n",
       "Patient addmited to semi-intensive unit (1=yes, 0=no)    0.000000\n",
       "Patient addmited to intensive care unit (1=yes, 0=no)    0.000000\n",
       "Hematocrit                                               0.893161\n",
       "Hemoglobin                                               0.893161\n",
       "Platelets                                                0.893338\n",
       "Mean platelet volume                                     0.893870\n",
       "Red blood Cells                                          0.893338\n",
       "Lymphocytes                                              0.893338\n",
       "Mean corpuscular hemoglobin concentration (MCHC)         0.893338\n",
       "Leukocytes                                               0.893338\n",
       "Basophils                                                0.893338\n",
       "Mean corpuscular hemoglobin (MCH)                        0.893338\n",
       "Eosinophils                                              0.893338\n",
       "Mean corpuscular volume (MCV)                            0.893338\n",
       "Monocytes                                                0.893515\n",
       "Red blood cell distribution width (RDW)                  0.893338\n",
       "Serum Glucose                                            0.963147\n",
       "Respiratory Syncytial Virus                              0.760099\n",
       "Influenza A                                              0.760099\n",
       "Influenza B                                              0.760099\n",
       "Parainfluenza 1                                          0.760454\n",
       "CoronavirusNL63                                          0.760454\n",
       "Rhinovirus/Enterovirus                                   0.760454\n",
       "Mycoplasma pneumoniae                                    1.000000\n",
       "Coronavirus HKU1                                         0.760454\n",
       "Parainfluenza 3                                          0.760454\n",
       "Chlamydophila pneumoniae                                 0.760454\n",
       "Adenovirus                                               0.760454\n",
       "Parainfluenza 4                                          0.760454\n",
       "Coronavirus229E                                          0.760454\n",
       "CoronavirusOC43                                          0.760454\n",
       "Inf A H1N1 2009                                          0.760454\n",
       "Bordetella pertussis                                     0.760454\n",
       "Metapneumovirus                                          0.760454\n",
       "Parainfluenza 2                                          0.760454\n",
       "Neutrophils                                              0.909107\n",
       "Urea                                                     0.929660\n",
       "Proteina C reativa mg/dL                                 0.910347\n",
       "Creatinine                                               0.924876\n",
       "Potassium                                                0.934266\n",
       "Sodium                                                   0.934444\n",
       "Influenza B, rapid test                                  0.854713\n",
       "Influenza A, rapid test                                  0.854713\n",
       "Alanine transaminase                                     0.960135\n",
       "Aspartate transaminase                                   0.959957\n",
       "Gamma-glutamyltransferase                                0.972892\n",
       "Total Bilirubin                                          0.967753\n",
       "Direct Bilirubin                                         0.967753\n",
       "Indirect Bilirubin                                       0.967753\n",
       "Alkaline phosphatase                                     0.974486\n",
       "Ionized calcium                                          0.991141\n",
       "Strepto A                                                0.941176\n",
       "Magnesium                                                0.992913\n",
       "pCO2 (venous blood gas analysis)                         0.975904\n",
       "Hb saturation (venous blood gas analysis)                0.975904\n",
       "Base excess (venous blood gas analysis)                  0.975904\n",
       "pO2 (venous blood gas analysis)                          0.975904\n",
       "Fio2 (venous blood gas analysis)                         0.999823\n",
       "Total CO2 (venous blood gas analysis)                    0.975904\n",
       "pH (venous blood gas analysis)                           0.975904\n",
       "HCO3 (venous blood gas analysis)                         0.975904\n",
       "Rods #                                                   0.982814\n",
       "Segmented                                                0.982814\n",
       "Promyelocytes                                            0.982814\n",
       "Metamyelocytes                                           0.982814\n",
       "Myelocytes                                               0.982814\n",
       "Myeloblasts                                              0.982814\n",
       "Urine - Esterase                                         0.989369\n",
       "Urine - Aspect                                           0.987597\n",
       "Urine - pH                                               0.987597\n",
       "Urine - Hemoglobin                                       0.987597\n",
       "Urine - Bile pigments                                    0.987597\n",
       "Urine - Ketone Bodies                                    0.989901\n",
       "Urine - Nitrite                                          0.999823\n",
       "Urine - Density                                          0.987597\n",
       "Urine - Urobilinogen                                     0.987775\n",
       "Urine - Protein                                          0.989369\n",
       "Urine - Sugar                                            1.000000\n",
       "Urine - Leukocytes                                       0.987597\n",
       "Urine - Crystals                                         0.987597\n",
       "Urine - Red blood cells                                  0.987597\n",
       "Urine - Hyaline cylinders                                0.988129\n",
       "Urine - Granular cylinders                               0.987775\n",
       "Urine - Yeasts                                           0.987597\n",
       "Urine - Color                                            0.987597\n",
       "Partial thromboplastin time (PTT)                        1.000000\n",
       "Relationship (Patient/Normal)                            0.983877\n",
       "International normalized ratio (INR)                     0.976435\n",
       "Lactic Dehydrogenase                                     0.982105\n",
       "Prothrombin time (PT), Activity                          1.000000\n",
       "Vitamin B12                                              0.999468\n",
       "Creatine phosphokinase (CPK)                             0.981573\n",
       "Ferritin                                                 0.995925\n",
       "Arterial Lactic Acid                                     0.995216\n",
       "Lipase dosage                                            0.998583\n",
       "D-Dimer                                                  1.000000\n",
       "Albumin                                                  0.997697\n",
       "Hb saturation (arterial blood gases)                     0.995216\n",
       "pCO2 (arterial blood gas analysis)                       0.995216\n",
       "Base excess (arterial blood gas analysis)                0.995216\n",
       "pH (arterial blood gas analysis)                         0.995216\n",
       "Total CO2 (arterial blood gas analysis)                  0.995216\n",
       "HCO3 (arterial blood gas analysis)                       0.995216\n",
       "pO2 (arterial blood gas analysis)                        0.995216\n",
       "Arteiral Fio2                                            0.996456\n",
       "Phosphor                                                 0.996456\n",
       "ctO2 (arterial blood gas analysis)                       0.995216\n",
       "dtype: float64"
      ]
     },
     "execution_count": 98,
     "metadata": {},
     "output_type": "execute_result"
    }
   ],
   "source": [
    "missing_rate = df.isna().sum()/df.shape[0]\n",
    "missing_rate"
   ]
  },
  {
   "cell_type": "code",
   "execution_count": 99,
   "metadata": {},
   "outputs": [],
   "source": [
    "blood_columns = list(df.columns[(missing_rate < 0.9) & (missing_rate > 0.88)])\n",
    "viral_columns = list(df.columns[(missing_rate < 0.8) & (missing_rate > 0.75)])"
   ]
  },
  {
   "cell_type": "code",
   "execution_count": 100,
   "metadata": {},
   "outputs": [],
   "source": [
    "key_columns = ['Patient age quantile', 'SARS-Cov-2 exam result']"
   ]
  },
  {
   "cell_type": "code",
   "execution_count": 101,
   "metadata": {},
   "outputs": [
    {
     "data": {
      "text/plain": [
       "(5644, 33)"
      ]
     },
     "execution_count": 101,
     "metadata": {},
     "output_type": "execute_result"
    }
   ],
   "source": [
    "df = df[key_columns + blood_columns + viral_columns]\n",
    "df.shape"
   ]
  },
  {
   "cell_type": "markdown",
   "metadata": {},
   "source": [
    "# TrainTest\n",
    "As usual, we need to create a train set and a test set to build then evaluate our models."
   ]
  },
  {
   "cell_type": "code",
   "execution_count": 102,
   "metadata": {},
   "outputs": [],
   "source": [
    "from sklearn.model_selection import train_test_split"
   ]
  },
  {
   "cell_type": "code",
   "execution_count": 103,
   "metadata": {},
   "outputs": [],
   "source": [
    "trainset, testset = train_test_split(df, test_size = 0.2, random_state = 0)"
   ]
  },
  {
   "cell_type": "code",
   "execution_count": 104,
   "metadata": {},
   "outputs": [
    {
     "data": {
      "text/plain": [
       "negative    4068\n",
       "positive     447\n",
       "Name: SARS-Cov-2 exam result, dtype: int64"
      ]
     },
     "execution_count": 104,
     "metadata": {},
     "output_type": "execute_result"
    }
   ],
   "source": [
    "trainset['SARS-Cov-2 exam result'].value_counts()"
   ]
  },
  {
   "cell_type": "code",
   "execution_count": 105,
   "metadata": {},
   "outputs": [
    {
     "data": {
      "text/plain": [
       "negative    1018\n",
       "positive     111\n",
       "Name: SARS-Cov-2 exam result, dtype: int64"
      ]
     },
     "execution_count": 105,
     "metadata": {},
     "output_type": "execute_result"
    }
   ],
   "source": [
    "testset['SARS-Cov-2 exam result'].value_counts()"
   ]
  },
  {
   "cell_type": "markdown",
   "metadata": {},
   "source": [
    "That was just to make sure we kept the same proportion of positives and negatives among our train and test set.\n",
    "## Encoding"
   ]
  },
  {
   "cell_type": "code",
   "execution_count": 106,
   "metadata": {},
   "outputs": [],
   "source": [
    "# This function will be used to encode the categorical data.\n",
    "# This function is rather simple since there are not a lot of different values to encode (as we checked it through the exploration of the dataset)\n",
    "def encoding(df):\n",
    "    code = {'positive':1, 'negative':0, 'detected':1, 'not_detected':0}\n",
    "    for col in df.select_dtypes('object'):\n",
    "        df[col] = df[col].map(code)\n",
    "\n",
    "    return(df)"
   ]
  },
  {
   "cell_type": "code",
   "execution_count": 149,
   "metadata": {},
   "outputs": [],
   "source": [
    "# Here we will try to remove the Nan values as a first pre-processing action\n",
    "def imputation(df):\n",
    "    return(df.dropna())"
   ]
  },
  {
   "cell_type": "code",
   "execution_count": 108,
   "metadata": {},
   "outputs": [],
   "source": [
    "def preprocessing(df):\n",
    "    \n",
    "    df = encoding(df)\n",
    "    df = imputation(df)\n",
    "    \n",
    "    X = df.drop('SARS-Cov-2 exam result', axis = 1)\n",
    "    y = df['SARS-Cov-2 exam result']\n",
    "    \n",
    "    print(y.value_counts())\n",
    "    \n",
    "    return(X, y)"
   ]
  },
  {
   "cell_type": "code",
   "execution_count": 109,
   "metadata": {},
   "outputs": [
    {
     "name": "stdout",
     "output_type": "stream",
     "text": [
      "0    258\n",
      "1     38\n",
      "Name: SARS-Cov-2 exam result, dtype: int64\n"
     ]
    },
    {
     "name": "stderr",
     "output_type": "stream",
     "text": [
      "C:\\Users\\foucardguimax\\Desktop\\PYTHON\\Python3.7\\Machine-learnia\\Regression\\lib\\site-packages\\ipykernel_launcher.py:4: SettingWithCopyWarning: \n",
      "A value is trying to be set on a copy of a slice from a DataFrame.\n",
      "Try using .loc[row_indexer,col_indexer] = value instead\n",
      "\n",
      "See the caveats in the documentation: https://pandas.pydata.org/pandas-docs/stable/user_guide/indexing.html#returning-a-view-versus-a-copy\n",
      "  after removing the cwd from sys.path.\n"
     ]
    }
   ],
   "source": [
    "X_train, y_train = preprocessing(trainset)"
   ]
  },
  {
   "cell_type": "code",
   "execution_count": 110,
   "metadata": {},
   "outputs": [
    {
     "name": "stdout",
     "output_type": "stream",
     "text": [
      "0    54\n",
      "1    12\n",
      "Name: SARS-Cov-2 exam result, dtype: int64\n"
     ]
    },
    {
     "name": "stderr",
     "output_type": "stream",
     "text": [
      "C:\\Users\\foucardguimax\\Desktop\\PYTHON\\Python3.7\\Machine-learnia\\Regression\\lib\\site-packages\\ipykernel_launcher.py:4: SettingWithCopyWarning: \n",
      "A value is trying to be set on a copy of a slice from a DataFrame.\n",
      "Try using .loc[row_indexer,col_indexer] = value instead\n",
      "\n",
      "See the caveats in the documentation: https://pandas.pydata.org/pandas-docs/stable/user_guide/indexing.html#returning-a-view-versus-a-copy\n",
      "  after removing the cwd from sys.path.\n"
     ]
    }
   ],
   "source": [
    "X_test, y_test = preprocessing(testset)"
   ]
  },
  {
   "cell_type": "markdown",
   "metadata": {},
   "source": [
    "So, now we have created everything we need to make out first model of machine learning on this dataset. The preprocessing here is rather simple in order to have first insights on what we will need to preprocess next."
   ]
  },
  {
   "cell_type": "markdown",
   "metadata": {},
   "source": [
    "## Modelling\n",
    "We will build a first model using a Decision Tree. It's a simple model of ML, and we don't need to standardize the values yet. It will help us to gain first insights on what we need to do."
   ]
  },
  {
   "cell_type": "code",
   "execution_count": 111,
   "metadata": {},
   "outputs": [],
   "source": [
    "from sklearn.tree import DecisionTreeClassifier"
   ]
  },
  {
   "cell_type": "code",
   "execution_count": 112,
   "metadata": {},
   "outputs": [],
   "source": [
    "model = DecisionTreeClassifier(random_state=0)"
   ]
  },
  {
   "cell_type": "markdown",
   "metadata": {},
   "source": [
    "## Metrics"
   ]
  },
  {
   "cell_type": "code",
   "execution_count": 113,
   "metadata": {},
   "outputs": [],
   "source": [
    "from sklearn.metrics import f1_score, confusion_matrix, classification_report\n",
    "from sklearn.model_selection import learning_curve"
   ]
  },
  {
   "cell_type": "code",
   "execution_count": 114,
   "metadata": {},
   "outputs": [],
   "source": [
    "def evaluation(model):\n",
    "    model.fit(X_train, y_train)\n",
    "    ypred = model.predict(X_test)\n",
    "    \n",
    "    print(confusion_matrix(y_test, ypred))\n",
    "    print(classification_report(y_test, ypred))\n",
    "    \n",
    "    N, train_score, val_score = learning_curve(model, X_train, y_train, cv = 4, scoring='f1', train_sizes=np.linspace(0.1,1,10))\n",
    "    \n",
    "    plt.figure(figsize=(12,8))\n",
    "    plt.plot(N, train_score.mean(axis = 1), label = 'train score')\n",
    "    plt.plot(N, val_score.mean(axis = 1), label = 'validation score')\n",
    "    plt.legend()"
   ]
  },
  {
   "cell_type": "code",
   "execution_count": 115,
   "metadata": {},
   "outputs": [
    {
     "name": "stdout",
     "output_type": "stream",
     "text": [
      "[[52  2]\n",
      " [10  2]]\n",
      "              precision    recall  f1-score   support\n",
      "\n",
      "           0       0.84      0.96      0.90        54\n",
      "           1       0.50      0.17      0.25        12\n",
      "\n",
      "    accuracy                           0.82        66\n",
      "   macro avg       0.67      0.56      0.57        66\n",
      "weighted avg       0.78      0.82      0.78        66\n",
      "\n"
     ]
    },
    {
     "data": {
      "image/png": "[encoded data removed]",
      "text/plain": [
       "<Figure size 864x576 with 1 Axes>"
      ]
     },
     "metadata": {},
     "output_type": "display_data"
    }
   ],
   "source": [
    "evaluation(model)"
   ]
  },
  {
   "cell_type": "markdown",
   "metadata": {},
   "source": [
    "Among the 12 patients infected with the covid, only 2 were correctly classified with this model (recall = 17%). This model is not good but it was developped in 5 minutes ! Time to upgrade it.\n",
    "\n",
    "What we can say from this graph:\n",
    "- This is the F1 score only. It reaches 50% at most.\n",
    "- Our model is overfitted, the difference between the test_score and the train_score is way too high\n",
    "\n",
    "Let's see what are the most important features selected by the model."
   ]
  },
  {
   "cell_type": "code",
   "execution_count": 116,
   "metadata": {},
   "outputs": [
    {
     "data": {
      "text/plain": [
       "<matplotlib.axes._subplots.AxesSubplot at 0x1ade4d34ec8>"
      ]
     },
     "execution_count": 116,
     "metadata": {},
     "output_type": "execute_result"
    },
    {
     "data": {
      "image/png": "[encoded data removed]",
      "text/plain": [
       "<Figure size 864x576 with 1 Axes>"
      ]
     },
     "metadata": {},
     "output_type": "display_data"
    }
   ],
   "source": [
    "pd.DataFrame(model.feature_importances_, index = X_train.columns).plot.bar(figsize=(12,8))"
   ]
  },
  {
   "cell_type": "markdown",
   "metadata": {},
   "source": [
    "For our model, blood data seems more important than viral data. But this is no surprise. We have seen that the Platelets, leukocytes etc... might be interesting to classify the patients. What we can do:\n",
    "- we can create a threshold. All variables below the threshold won't be taken\n",
    "- Since all the viral data seems les important, why consider them ?"
   ]
  },
  {
   "cell_type": "code",
   "execution_count": 117,
   "metadata": {},
   "outputs": [
    {
     "name": "stdout",
     "output_type": "stream",
     "text": [
      "0    422\n",
      "1     65\n",
      "Name: SARS-Cov-2 exam result, dtype: int64\n",
      "0    95\n",
      "1    16\n",
      "Name: SARS-Cov-2 exam result, dtype: int64\n"
     ]
    },
    {
     "name": "stderr",
     "output_type": "stream",
     "text": [
      "C:\\Users\\foucardguimax\\Desktop\\PYTHON\\Python3.7\\Machine-learnia\\Regression\\lib\\site-packages\\ipykernel_launcher.py:4: SettingWithCopyWarning: \n",
      "A value is trying to be set on a copy of a slice from a DataFrame.\n",
      "Try using .loc[row_indexer,col_indexer] = value instead\n",
      "\n",
      "See the caveats in the documentation: https://pandas.pydata.org/pandas-docs/stable/user_guide/indexing.html#returning-a-view-versus-a-copy\n",
      "  after removing the cwd from sys.path.\n"
     ]
    }
   ],
   "source": [
    "df_blood = df[key_columns + blood_columns]\n",
    "trainset_bd, testset_bd = train_test_split(df_blood, test_size = 0.2, random_state = 0)\n",
    "X_train, y_train = preprocessing(trainset_bd)\n",
    "X_test, y_test = preprocessing(testset_bd)"
   ]
  },
  {
   "cell_type": "code",
   "execution_count": 118,
   "metadata": {},
   "outputs": [
    {
     "name": "stdout",
     "output_type": "stream",
     "text": [
      "[[87  8]\n",
      " [10  6]]\n",
      "              precision    recall  f1-score   support\n",
      "\n",
      "           0       0.90      0.92      0.91        95\n",
      "           1       0.43      0.38      0.40        16\n",
      "\n",
      "    accuracy                           0.84       111\n",
      "   macro avg       0.66      0.65      0.65       111\n",
      "weighted avg       0.83      0.84      0.83       111\n",
      "\n"
     ]
    },
    {
     "data": {
      "image/png": "[encoded data removed]",
      "text/plain": [
       "<Figure size 864x576 with 1 Axes>"
      ]
     },
     "metadata": {},
     "output_type": "display_data"
    }
   ],
   "source": [
    "evaluation(model)"
   ]
  },
  {
   "cell_type": "markdown",
   "metadata": {},
   "source": [
    "By deleting all the viral columns, we haven't really improved the prediction given by our model. It is still overfitted and the F1 score isn't great neither.\n",
    "\n",
    "What if we try to change our TreeClassifier to a RandomForest ? It should deal better with overfitting."
   ]
  },
  {
   "cell_type": "code",
   "execution_count": 119,
   "metadata": {},
   "outputs": [],
   "source": [
    "from sklearn.ensemble import RandomForestClassifier"
   ]
  },
  {
   "cell_type": "code",
   "execution_count": 120,
   "metadata": {},
   "outputs": [],
   "source": [
    "model2 = RandomForestClassifier(random_state=0)"
   ]
  },
  {
   "cell_type": "code",
   "execution_count": 121,
   "metadata": {},
   "outputs": [
    {
     "name": "stdout",
     "output_type": "stream",
     "text": [
      "0    258\n",
      "1     38\n",
      "Name: SARS-Cov-2 exam result, dtype: int64\n",
      "0    54\n",
      "1    12\n",
      "Name: SARS-Cov-2 exam result, dtype: int64\n"
     ]
    },
    {
     "name": "stderr",
     "output_type": "stream",
     "text": [
      "C:\\Users\\foucardguimax\\Desktop\\PYTHON\\Python3.7\\Machine-learnia\\Regression\\lib\\site-packages\\ipykernel_launcher.py:4: SettingWithCopyWarning: \n",
      "A value is trying to be set on a copy of a slice from a DataFrame.\n",
      "Try using .loc[row_indexer,col_indexer] = value instead\n",
      "\n",
      "See the caveats in the documentation: https://pandas.pydata.org/pandas-docs/stable/user_guide/indexing.html#returning-a-view-versus-a-copy\n",
      "  after removing the cwd from sys.path.\n"
     ]
    }
   ],
   "source": [
    "trainset, testset = train_test_split(df, test_size = 0.2, random_state = 0)\n",
    "X_train, y_train = preprocessing(trainset)\n",
    "X_test, y_test = preprocessing(testset)"
   ]
  },
  {
   "cell_type": "markdown",
   "metadata": {},
   "source": [
    "During the exploration of the dataset (cf COVID part1) we've seen that blood levels of people infected with something different than the COVID have blood levels different from people infected with the COVID. Let's create the feature 'is_sick' again."
   ]
  },
  {
   "cell_type": "code",
   "execution_count": 122,
   "metadata": {},
   "outputs": [],
   "source": [
    "def feature_engineering(df):\n",
    "    df['is_scik'] = df[viral_columns].sum(axis=1) >= 1\n",
    "    df = df.drop(viral_columns, axis = 1)\n",
    "    return(df)"
   ]
  },
  {
   "cell_type": "code",
   "execution_count": 123,
   "metadata": {},
   "outputs": [],
   "source": [
    "def preprocessing2(df):\n",
    "    \n",
    "    df = encoding(df)\n",
    "    df = feature_engineering(df)\n",
    "    df = imputation(df)\n",
    "    \n",
    "    X = df.drop('SARS-Cov-2 exam result', axis = 1)\n",
    "    y = df['SARS-Cov-2 exam result']\n",
    "    \n",
    "    print(y.value_counts())\n",
    "    \n",
    "    return(X, y)"
   ]
  },
  {
   "cell_type": "code",
   "execution_count": 124,
   "metadata": {},
   "outputs": [
    {
     "name": "stdout",
     "output_type": "stream",
     "text": [
      "0    422\n",
      "1     65\n",
      "Name: SARS-Cov-2 exam result, dtype: int64\n",
      "0    95\n",
      "1    16\n",
      "Name: SARS-Cov-2 exam result, dtype: int64\n"
     ]
    },
    {
     "name": "stderr",
     "output_type": "stream",
     "text": [
      "C:\\Users\\foucardguimax\\Desktop\\PYTHON\\Python3.7\\Machine-learnia\\Regression\\lib\\site-packages\\ipykernel_launcher.py:2: SettingWithCopyWarning: \n",
      "A value is trying to be set on a copy of a slice from a DataFrame.\n",
      "Try using .loc[row_indexer,col_indexer] = value instead\n",
      "\n",
      "See the caveats in the documentation: https://pandas.pydata.org/pandas-docs/stable/user_guide/indexing.html#returning-a-view-versus-a-copy\n",
      "  \n"
     ]
    }
   ],
   "source": [
    "X_train, y_train = preprocessing2(trainset)\n",
    "X_test, y_test = preprocessing2(testset)"
   ]
  },
  {
   "cell_type": "code",
   "execution_count": 125,
   "metadata": {},
   "outputs": [
    {
     "name": "stdout",
     "output_type": "stream",
     "text": [
      "[[92  3]\n",
      " [13  3]]\n",
      "              precision    recall  f1-score   support\n",
      "\n",
      "           0       0.88      0.97      0.92        95\n",
      "           1       0.50      0.19      0.27        16\n",
      "\n",
      "    accuracy                           0.86       111\n",
      "   macro avg       0.69      0.58      0.60       111\n",
      "weighted avg       0.82      0.86      0.83       111\n",
      "\n"
     ]
    },
    {
     "data": {
      "image/png": "[encoded data removed]",
      "text/plain": [
       "<Figure size 864x576 with 1 Axes>"
      ]
     },
     "metadata": {},
     "output_type": "display_data"
    }
   ],
   "source": [
    "evaluation(model2)"
   ]
  },
  {
   "cell_type": "markdown",
   "metadata": {},
   "source": [
    "The new model is still not good. However, it seems like the more data, the better the F1 score on this model."
   ]
  },
  {
   "cell_type": "code",
   "execution_count": 126,
   "metadata": {},
   "outputs": [
    {
     "data": {
      "text/plain": [
       "<matplotlib.axes._subplots.AxesSubplot at 0x1ade5605108>"
      ]
     },
     "execution_count": 126,
     "metadata": {},
     "output_type": "execute_result"
    },
    {
     "data": {
      "image/png": "[encoded data removed]",
      "text/plain": [
       "<Figure size 864x576 with 1 Axes>"
      ]
     },
     "metadata": {},
     "output_type": "display_data"
    }
   ],
   "source": [
    "pd.DataFrame(model2.feature_importances_, index = X_train.columns).plot.bar(figsize=(12,8))"
   ]
  },
  {
   "cell_type": "markdown",
   "metadata": {},
   "source": [
    "We can see here that there are still a lot of \"useless\" features considered by our model. The feature we createdis not that relevant (compared to the leukocytes, Platelets etc...)"
   ]
  },
  {
   "cell_type": "code",
   "execution_count": 137,
   "metadata": {},
   "outputs": [],
   "source": [
    "from sklearn.pipeline import make_pipeline\n",
    "from sklearn.feature_selection import SelectKBest, f_classif"
   ]
  },
  {
   "cell_type": "code",
   "execution_count": 138,
   "metadata": {},
   "outputs": [],
   "source": [
    "model3 = make_pipeline(SelectKBest(f_classif, k=10),\n",
    "                      RandomForestClassifier(random_state=0))"
   ]
  },
  {
   "cell_type": "markdown",
   "metadata": {},
   "source": [
    "Thanks to the Anova test (imported with f_classif) we will pick the 10 best features for our model"
   ]
  },
  {
   "cell_type": "code",
   "execution_count": 139,
   "metadata": {},
   "outputs": [
    {
     "name": "stdout",
     "output_type": "stream",
     "text": [
      "[[92  3]\n",
      " [11  5]]\n",
      "              precision    recall  f1-score   support\n",
      "\n",
      "           0       0.89      0.97      0.93        95\n",
      "           1       0.62      0.31      0.42        16\n",
      "\n",
      "    accuracy                           0.87       111\n",
      "   macro avg       0.76      0.64      0.67       111\n",
      "weighted avg       0.85      0.87      0.86       111\n",
      "\n"
     ]
    },
    {
     "data": {
      "image/png": "[encoded data removed]",
      "text/plain": [
       "<Figure size 864x576 with 1 Axes>"
      ]
     },
     "metadata": {},
     "output_type": "display_data"
    }
   ],
   "source": [
    "evaluation(model3)"
   ]
  },
  {
   "cell_type": "markdown",
   "metadata": {},
   "source": [
    "Things are getting a bit better.\n",
    "- The model is still overfitted but,\n",
    "- The F1-score increased\n",
    "- The recall increased (30% of people infected with the COVID were correctly classified)\n",
    "\n",
    "Let's try different values of k:"
   ]
  },
  {
   "cell_type": "code",
   "execution_count": 136,
   "metadata": {},
   "outputs": [
    {
     "name": "stdout",
     "output_type": "stream",
     "text": [
      "[[90  5]\n",
      " [ 9  7]]\n",
      "              precision    recall  f1-score   support\n",
      "\n",
      "           0       0.91      0.95      0.93        95\n",
      "           1       0.58      0.44      0.50        16\n",
      "\n",
      "    accuracy                           0.87       111\n",
      "   macro avg       0.75      0.69      0.71       111\n",
      "weighted avg       0.86      0.87      0.87       111\n",
      "\n"
     ]
    },
    {
     "data": {
      "image/png": "[encoded data removed]",
      "text/plain": [
       "<Figure size 864x576 with 1 Axes>"
      ]
     },
     "metadata": {},
     "output_type": "display_data"
    }
   ],
   "source": [
    "model31 = make_pipeline(SelectKBest(f_classif, k=4),\n",
    "                      RandomForestClassifier(random_state=0))\n",
    "evaluation(model31)"
   ]
  },
  {
   "cell_type": "markdown",
   "metadata": {},
   "source": [
    "In the begining, the dataset contained 111 features and we are now working with only 5 and still managed to correctly classify 44% of the patients. However, it is only for 16 positive cases, it won't be enough on larger dataset.\n",
    "\n",
    "Let's try to use polynomialfeatures to increase the weight of the more relevant features and see what happen."
   ]
  },
  {
   "cell_type": "code",
   "execution_count": 144,
   "metadata": {},
   "outputs": [],
   "source": [
    "from sklearn.preprocessing import PolynomialFeatures\n",
    "from sklearn.decomposition import PCA"
   ]
  },
  {
   "cell_type": "code",
   "execution_count": 148,
   "metadata": {},
   "outputs": [
    {
     "name": "stdout",
     "output_type": "stream",
     "text": [
      "[[91  4]\n",
      " [11  5]]\n",
      "              precision    recall  f1-score   support\n",
      "\n",
      "           0       0.89      0.96      0.92        95\n",
      "           1       0.56      0.31      0.40        16\n",
      "\n",
      "    accuracy                           0.86       111\n",
      "   macro avg       0.72      0.64      0.66       111\n",
      "weighted avg       0.84      0.86      0.85       111\n",
      "\n"
     ]
    },
    {
     "data": {
      "image/png": "[encoded data removed]",
      "text/plain": [
       "<Figure size 864x576 with 1 Axes>"
      ]
     },
     "metadata": {},
     "output_type": "display_data"
    }
   ],
   "source": [
    "model4 = make_pipeline(PolynomialFeatures(2, include_bias=False), SelectKBest(f_classif, k=10),\n",
    "                    RandomForestClassifier(random_state=0))\n",
    "evaluation(model4)"
   ]
  },
  {
   "cell_type": "markdown",
   "metadata": {},
   "source": [
    "It's important to use 'include_bias=False' while using the polynomialFeature to avoid getting a lot of error messages (f_classif doesn't like constant values)."
   ]
  },
  {
   "cell_type": "code",
   "execution_count": null,
   "metadata": {},
   "outputs": [],
   "source": []
  }
 ],
 "metadata": {
  "kernelspec": {
   "display_name": "Regression",
   "language": "python",
   "name": "regression"
  },
  "language_info": {
   "codemirror_mode": {
    "name": "ipython",
    "version": 3
   },
   "file_extension": ".py",
   "mimetype": "text/x-python",
   "name": "python",
   "nbconvert_exporter": "python",
   "pygments_lexer": "ipython3",
   "version": "3.7.6"
  }
 },
 "nbformat": 4,
 "nbformat_minor": 4
}
