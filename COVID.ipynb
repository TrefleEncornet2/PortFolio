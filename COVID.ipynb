{
 "cells": [
  {
   "cell_type": "code",
   "execution_count": 113,
   "metadata": {},
   "outputs": [
    {
     "data": {
      "text/html": [
       "<div>\n",
       "<style scoped>\n",
       "    .dataframe tbody tr th:only-of-type {\n",
       "        vertical-align: middle;\n",
       "    }\n",
       "\n",
       "    .dataframe tbody tr th {\n",
       "        vertical-align: top;\n",
       "    }\n",
       "\n",
       "    .dataframe thead th {\n",
       "        text-align: right;\n",
       "    }\n",
       "</style>\n",
       "<table border=\"1\" class=\"dataframe\">\n",
       "  <thead>\n",
       "    <tr style=\"text-align: right;\">\n",
       "      <th></th>\n",
       "      <th>Patient ID</th>\n",
       "      <th>Patient age quantile</th>\n",
       "      <th>SARS-Cov-2 exam result</th>\n",
       "      <th>Patient addmited to regular ward (1=yes, 0=no)</th>\n",
       "      <th>Patient addmited to semi-intensive unit (1=yes, 0=no)</th>\n",
       "      <th>Patient addmited to intensive care unit (1=yes, 0=no)</th>\n",
       "      <th>Hematocrit</th>\n",
       "      <th>Hemoglobin</th>\n",
       "      <th>Platelets</th>\n",
       "      <th>Mean platelet volume</th>\n",
       "      <th>...</th>\n",
       "      <th>Hb saturation (arterial blood gases)</th>\n",
       "      <th>pCO2 (arterial blood gas analysis)</th>\n",
       "      <th>Base excess (arterial blood gas analysis)</th>\n",
       "      <th>pH (arterial blood gas analysis)</th>\n",
       "      <th>Total CO2 (arterial blood gas analysis)</th>\n",
       "      <th>HCO3 (arterial blood gas analysis)</th>\n",
       "      <th>pO2 (arterial blood gas analysis)</th>\n",
       "      <th>Arteiral Fio2</th>\n",
       "      <th>Phosphor</th>\n",
       "      <th>ctO2 (arterial blood gas analysis)</th>\n",
       "    </tr>\n",
       "  </thead>\n",
       "  <tbody>\n",
       "    <tr>\n",
       "      <th>0</th>\n",
       "      <td>44477f75e8169d2</td>\n",
       "      <td>13</td>\n",
       "      <td>negative</td>\n",
       "      <td>0</td>\n",
       "      <td>0</td>\n",
       "      <td>0</td>\n",
       "      <td>NaN</td>\n",
       "      <td>NaN</td>\n",
       "      <td>NaN</td>\n",
       "      <td>NaN</td>\n",
       "      <td>...</td>\n",
       "      <td>NaN</td>\n",
       "      <td>NaN</td>\n",
       "      <td>NaN</td>\n",
       "      <td>NaN</td>\n",
       "      <td>NaN</td>\n",
       "      <td>NaN</td>\n",
       "      <td>NaN</td>\n",
       "      <td>NaN</td>\n",
       "      <td>NaN</td>\n",
       "      <td>NaN</td>\n",
       "    </tr>\n",
       "    <tr>\n",
       "      <th>1</th>\n",
       "      <td>126e9dd13932f68</td>\n",
       "      <td>17</td>\n",
       "      <td>negative</td>\n",
       "      <td>0</td>\n",
       "      <td>0</td>\n",
       "      <td>0</td>\n",
       "      <td>0.236515</td>\n",
       "      <td>-0.02234</td>\n",
       "      <td>-0.517413</td>\n",
       "      <td>0.010677</td>\n",
       "      <td>...</td>\n",
       "      <td>NaN</td>\n",
       "      <td>NaN</td>\n",
       "      <td>NaN</td>\n",
       "      <td>NaN</td>\n",
       "      <td>NaN</td>\n",
       "      <td>NaN</td>\n",
       "      <td>NaN</td>\n",
       "      <td>NaN</td>\n",
       "      <td>NaN</td>\n",
       "      <td>NaN</td>\n",
       "    </tr>\n",
       "    <tr>\n",
       "      <th>2</th>\n",
       "      <td>a46b4402a0e5696</td>\n",
       "      <td>8</td>\n",
       "      <td>negative</td>\n",
       "      <td>0</td>\n",
       "      <td>0</td>\n",
       "      <td>0</td>\n",
       "      <td>NaN</td>\n",
       "      <td>NaN</td>\n",
       "      <td>NaN</td>\n",
       "      <td>NaN</td>\n",
       "      <td>...</td>\n",
       "      <td>NaN</td>\n",
       "      <td>NaN</td>\n",
       "      <td>NaN</td>\n",
       "      <td>NaN</td>\n",
       "      <td>NaN</td>\n",
       "      <td>NaN</td>\n",
       "      <td>NaN</td>\n",
       "      <td>NaN</td>\n",
       "      <td>NaN</td>\n",
       "      <td>NaN</td>\n",
       "    </tr>\n",
       "    <tr>\n",
       "      <th>3</th>\n",
       "      <td>f7d619a94f97c45</td>\n",
       "      <td>5</td>\n",
       "      <td>negative</td>\n",
       "      <td>0</td>\n",
       "      <td>0</td>\n",
       "      <td>0</td>\n",
       "      <td>NaN</td>\n",
       "      <td>NaN</td>\n",
       "      <td>NaN</td>\n",
       "      <td>NaN</td>\n",
       "      <td>...</td>\n",
       "      <td>NaN</td>\n",
       "      <td>NaN</td>\n",
       "      <td>NaN</td>\n",
       "      <td>NaN</td>\n",
       "      <td>NaN</td>\n",
       "      <td>NaN</td>\n",
       "      <td>NaN</td>\n",
       "      <td>NaN</td>\n",
       "      <td>NaN</td>\n",
       "      <td>NaN</td>\n",
       "    </tr>\n",
       "    <tr>\n",
       "      <th>4</th>\n",
       "      <td>d9e41465789c2b5</td>\n",
       "      <td>15</td>\n",
       "      <td>negative</td>\n",
       "      <td>0</td>\n",
       "      <td>0</td>\n",
       "      <td>0</td>\n",
       "      <td>NaN</td>\n",
       "      <td>NaN</td>\n",
       "      <td>NaN</td>\n",
       "      <td>NaN</td>\n",
       "      <td>...</td>\n",
       "      <td>NaN</td>\n",
       "      <td>NaN</td>\n",
       "      <td>NaN</td>\n",
       "      <td>NaN</td>\n",
       "      <td>NaN</td>\n",
       "      <td>NaN</td>\n",
       "      <td>NaN</td>\n",
       "      <td>NaN</td>\n",
       "      <td>NaN</td>\n",
       "      <td>NaN</td>\n",
       "    </tr>\n",
       "  </tbody>\n",
       "</table>\n",
       "<p>5 rows × 111 columns</p>\n",
       "</div>"
      ],
      "text/plain": [
       "        Patient ID  Patient age quantile SARS-Cov-2 exam result  \\\n",
       "0  44477f75e8169d2                    13               negative   \n",
       "1  126e9dd13932f68                    17               negative   \n",
       "2  a46b4402a0e5696                     8               negative   \n",
       "3  f7d619a94f97c45                     5               negative   \n",
       "4  d9e41465789c2b5                    15               negative   \n",
       "\n",
       "   Patient addmited to regular ward (1=yes, 0=no)  \\\n",
       "0                                               0   \n",
       "1                                               0   \n",
       "2                                               0   \n",
       "3                                               0   \n",
       "4                                               0   \n",
       "\n",
       "   Patient addmited to semi-intensive unit (1=yes, 0=no)  \\\n",
       "0                                                  0       \n",
       "1                                                  0       \n",
       "2                                                  0       \n",
       "3                                                  0       \n",
       "4                                                  0       \n",
       "\n",
       "   Patient addmited to intensive care unit (1=yes, 0=no)  Hematocrit  \\\n",
       "0                                                  0             NaN   \n",
       "1                                                  0        0.236515   \n",
       "2                                                  0             NaN   \n",
       "3                                                  0             NaN   \n",
       "4                                                  0             NaN   \n",
       "\n",
       "   Hemoglobin  Platelets  Mean platelet volume   ...  \\\n",
       "0         NaN        NaN                    NaN  ...   \n",
       "1    -0.02234  -0.517413               0.010677  ...   \n",
       "2         NaN        NaN                    NaN  ...   \n",
       "3         NaN        NaN                    NaN  ...   \n",
       "4         NaN        NaN                    NaN  ...   \n",
       "\n",
       "   Hb saturation (arterial blood gases)  pCO2 (arterial blood gas analysis)  \\\n",
       "0                                   NaN                                 NaN   \n",
       "1                                   NaN                                 NaN   \n",
       "2                                   NaN                                 NaN   \n",
       "3                                   NaN                                 NaN   \n",
       "4                                   NaN                                 NaN   \n",
       "\n",
       "   Base excess (arterial blood gas analysis)  \\\n",
       "0                                        NaN   \n",
       "1                                        NaN   \n",
       "2                                        NaN   \n",
       "3                                        NaN   \n",
       "4                                        NaN   \n",
       "\n",
       "   pH (arterial blood gas analysis)  Total CO2 (arterial blood gas analysis)  \\\n",
       "0                               NaN                                      NaN   \n",
       "1                               NaN                                      NaN   \n",
       "2                               NaN                                      NaN   \n",
       "3                               NaN                                      NaN   \n",
       "4                               NaN                                      NaN   \n",
       "\n",
       "   HCO3 (arterial blood gas analysis)  pO2 (arterial blood gas analysis)  \\\n",
       "0                                 NaN                                NaN   \n",
       "1                                 NaN                                NaN   \n",
       "2                                 NaN                                NaN   \n",
       "3                                 NaN                                NaN   \n",
       "4                                 NaN                                NaN   \n",
       "\n",
       "   Arteiral Fio2  Phosphor  ctO2 (arterial blood gas analysis)  \n",
       "0            NaN       NaN                                 NaN  \n",
       "1            NaN       NaN                                 NaN  \n",
       "2            NaN       NaN                                 NaN  \n",
       "3            NaN       NaN                                 NaN  \n",
       "4            NaN       NaN                                 NaN  \n",
       "\n",
       "[5 rows x 111 columns]"
      ]
     },
     "execution_count": 113,
     "metadata": {},
     "output_type": "execute_result"
    }
   ],
   "source": [
    "import pandas as pd\n",
    "path = \"C:\\\\Users\\\\foucardguimax\\\\Desktop\\\\PortFolio\\\\dataset.xlsx\"\n",
    "df = pd.read_excel(path)\n",
    "df.head()"
   ]
  },
  {
   "cell_type": "code",
   "execution_count": 114,
   "metadata": {},
   "outputs": [
    {
     "name": "stdout",
     "output_type": "stream",
     "text": [
      "(5644, 111)\n"
     ]
    }
   ],
   "source": [
    "print(df.shape)"
   ]
  },
  {
   "cell_type": "markdown",
   "metadata": {},
   "source": [
    "Gros data set, il y a 111 colonnes (features) possiblement exploitables et 5644 lignes (samples). On va affichier ces colonnes."
   ]
  },
  {
   "cell_type": "code",
   "execution_count": 115,
   "metadata": {},
   "outputs": [
    {
     "name": "stdout",
     "output_type": "stream",
     "text": [
      "Patient ID\n",
      "Patient age quantile\n",
      "SARS-Cov-2 exam result\n",
      "Patient addmited to regular ward (1=yes, 0=no)\n",
      "Patient addmited to semi-intensive unit (1=yes, 0=no)\n",
      "Patient addmited to intensive care unit (1=yes, 0=no)\n",
      "Hematocrit\n",
      "Hemoglobin\n",
      "Platelets\n",
      "Mean platelet volume \n",
      "Red blood Cells\n",
      "Lymphocytes\n",
      "Mean corpuscular hemoglobin concentration (MCHC)\n",
      "Leukocytes\n",
      "Basophils\n",
      "Mean corpuscular hemoglobin (MCH)\n",
      "Eosinophils\n",
      "Mean corpuscular volume (MCV)\n",
      "Monocytes\n",
      "Red blood cell distribution width (RDW)\n",
      "Serum Glucose\n",
      "Respiratory Syncytial Virus\n",
      "Influenza A\n",
      "Influenza B\n",
      "Parainfluenza 1\n",
      "CoronavirusNL63\n",
      "Rhinovirus/Enterovirus\n",
      "Mycoplasma pneumoniae\n",
      "Coronavirus HKU1\n",
      "Parainfluenza 3\n",
      "Chlamydophila pneumoniae\n",
      "Adenovirus\n",
      "Parainfluenza 4\n",
      "Coronavirus229E\n",
      "CoronavirusOC43\n",
      "Inf A H1N1 2009\n",
      "Bordetella pertussis\n",
      "Metapneumovirus\n",
      "Parainfluenza 2\n",
      "Neutrophils\n",
      "Urea\n",
      "Proteina C reativa mg/dL\n",
      "Creatinine\n",
      "Potassium\n",
      "Sodium\n",
      "Influenza B, rapid test\n",
      "Influenza A, rapid test\n",
      "Alanine transaminase\n",
      "Aspartate transaminase\n",
      "Gamma-glutamyltransferase \n",
      "Total Bilirubin\n",
      "Direct Bilirubin\n",
      "Indirect Bilirubin\n",
      "Alkaline phosphatase\n",
      "Ionized calcium \n",
      "Strepto A\n",
      "Magnesium\n",
      "pCO2 (venous blood gas analysis)\n",
      "Hb saturation (venous blood gas analysis)\n",
      "Base excess (venous blood gas analysis)\n",
      "pO2 (venous blood gas analysis)\n",
      "Fio2 (venous blood gas analysis)\n",
      "Total CO2 (venous blood gas analysis)\n",
      "pH (venous blood gas analysis)\n",
      "HCO3 (venous blood gas analysis)\n",
      "Rods #\n",
      "Segmented\n",
      "Promyelocytes\n",
      "Metamyelocytes\n",
      "Myelocytes\n",
      "Myeloblasts\n",
      "Urine - Esterase\n",
      "Urine - Aspect\n",
      "Urine - pH\n",
      "Urine - Hemoglobin\n",
      "Urine - Bile pigments\n",
      "Urine - Ketone Bodies\n",
      "Urine - Nitrite\n",
      "Urine - Density\n",
      "Urine - Urobilinogen\n",
      "Urine - Protein\n",
      "Urine - Sugar\n",
      "Urine - Leukocytes\n",
      "Urine - Crystals\n",
      "Urine - Red blood cells\n",
      "Urine - Hyaline cylinders\n",
      "Urine - Granular cylinders\n",
      "Urine - Yeasts\n",
      "Urine - Color\n",
      "Partial thromboplastin time (PTT) \n",
      "Relationship (Patient/Normal)\n",
      "International normalized ratio (INR)\n",
      "Lactic Dehydrogenase\n",
      "Prothrombin time (PT), Activity\n",
      "Vitamin B12\n",
      "Creatine phosphokinase (CPK) \n",
      "Ferritin\n",
      "Arterial Lactic Acid\n",
      "Lipase dosage\n",
      "D-Dimer\n",
      "Albumin\n",
      "Hb saturation (arterial blood gases)\n",
      "pCO2 (arterial blood gas analysis)\n",
      "Base excess (arterial blood gas analysis)\n",
      "pH (arterial blood gas analysis)\n",
      "Total CO2 (arterial blood gas analysis)\n",
      "HCO3 (arterial blood gas analysis)\n",
      "pO2 (arterial blood gas analysis)\n",
      "Arteiral Fio2\n",
      "Phosphor\n",
      "ctO2 (arterial blood gas analysis)\n"
     ]
    }
   ],
   "source": [
    "list_col = df.columns\n",
    "for feature in list_col:\n",
    "    print(feature)"
   ]
  },
  {
   "cell_type": "code",
   "execution_count": 116,
   "metadata": {},
   "outputs": [
    {
     "name": "stdout",
     "output_type": "stream",
     "text": [
      "<class 'pandas.core.frame.DataFrame'>\n",
      "RangeIndex: 5644 entries, 0 to 5643\n",
      "Columns: 111 entries, Patient ID to ctO2 (arterial blood gas analysis)\n",
      "dtypes: float64(70), int64(4), object(37)\n",
      "memory usage: 4.8+ MB\n"
     ]
    }
   ],
   "source": [
    "df.info()"
   ]
  },
  {
   "cell_type": "markdown",
   "metadata": {},
   "source": [
    "On voit ici que 70 des colonnes sont des numerical data, possiblement 4 sont des categorical mais arrangés de façon numérique, et 37 sont possiblement des categorical."
   ]
  },
  {
   "cell_type": "code",
   "execution_count": 117,
   "metadata": {},
   "outputs": [
    {
     "name": "stdout",
     "output_type": "stream",
     "text": [
      "             Patient ID  Patient age quantile SARS-Cov-2 exam result  \\\n",
      "count              5644           5644.000000                   5644   \n",
      "unique             5644                   NaN                      2   \n",
      "top     a34d12251a0e800                   NaN               negative   \n",
      "freq                  1                   NaN                   5086   \n",
      "mean                NaN              9.318391                    NaN   \n",
      "std                 NaN              5.777903                    NaN   \n",
      "min                 NaN              0.000000                    NaN   \n",
      "25%                 NaN              4.000000                    NaN   \n",
      "50%                 NaN              9.000000                    NaN   \n",
      "75%                 NaN             14.000000                    NaN   \n",
      "max                 NaN             19.000000                    NaN   \n",
      "\n",
      "        Patient addmited to regular ward (1=yes, 0=no)  \\\n",
      "count                                      5644.000000   \n",
      "unique                                             NaN   \n",
      "top                                                NaN   \n",
      "freq                                               NaN   \n",
      "mean                                          0.013997   \n",
      "std                                           0.117489   \n",
      "min                                           0.000000   \n",
      "25%                                           0.000000   \n",
      "50%                                           0.000000   \n",
      "75%                                           0.000000   \n",
      "max                                           1.000000   \n",
      "\n",
      "        Patient addmited to semi-intensive unit (1=yes, 0=no)  \\\n",
      "count                                         5644.000000       \n",
      "unique                                                NaN       \n",
      "top                                                   NaN       \n",
      "freq                                                  NaN       \n",
      "mean                                             0.008859       \n",
      "std                                              0.093713       \n",
      "min                                              0.000000       \n",
      "25%                                              0.000000       \n",
      "50%                                              0.000000       \n",
      "75%                                              0.000000       \n",
      "max                                              1.000000       \n",
      "\n",
      "        Patient addmited to intensive care unit (1=yes, 0=no)    Hematocrit  \\\n",
      "count                                         5644.000000      6.030000e+02   \n",
      "unique                                                NaN               NaN   \n",
      "top                                                   NaN               NaN   \n",
      "freq                                                  NaN               NaN   \n",
      "mean                                             0.007264     -2.186214e-09   \n",
      "std                                              0.084929      1.000830e+00   \n",
      "min                                              0.000000     -4.501420e+00   \n",
      "25%                                              0.000000     -5.188074e-01   \n",
      "50%                                              0.000000      5.340703e-02   \n",
      "75%                                              0.000000      7.171751e-01   \n",
      "max                                              1.000000      2.662704e+00   \n",
      "\n",
      "          Hemoglobin     Platelets  Mean platelet volume   ...  \\\n",
      "count   6.030000e+02  6.020000e+02           5.990000e+02  ...   \n",
      "unique           NaN           NaN                    NaN  ...   \n",
      "top              NaN           NaN                    NaN  ...   \n",
      "freq             NaN           NaN                    NaN  ...   \n",
      "mean   -1.601319e-08 -3.535004e-10           7.438142e-09  ...   \n",
      "std     1.000830e+00  1.000832e+00           1.000836e+00  ...   \n",
      "min    -4.345603e+00 -2.552426e+00          -2.457575e+00  ...   \n",
      "25%    -5.862439e-01 -6.053457e-01          -6.624832e-01  ...   \n",
      "50%     4.031596e-02 -1.217160e-01          -1.015171e-01  ...   \n",
      "75%     7.295320e-01  5.314981e-01           6.838353e-01  ...   \n",
      "max     2.671868e+00  9.532034e+00           3.713052e+00  ...   \n",
      "\n",
      "        Hb saturation (arterial blood gases)  \\\n",
      "count                           2.700000e+01   \n",
      "unique                                   NaN   \n",
      "top                                      NaN   \n",
      "freq                                     NaN   \n",
      "mean                           -1.379737e-10   \n",
      "std                             1.019049e+00   \n",
      "min                            -1.999560e+00   \n",
      "25%                            -1.122574e+00   \n",
      "50%                             2.677689e-01   \n",
      "75%                             7.383496e-01   \n",
      "max                             1.337265e+00   \n",
      "\n",
      "        pCO2 (arterial blood gas analysis)  \\\n",
      "count                         2.700000e+01   \n",
      "unique                                 NaN   \n",
      "top                                    NaN   \n",
      "freq                                   NaN   \n",
      "mean                          8.416397e-09   \n",
      "std                           1.019049e+00   \n",
      "min                          -1.244817e+00   \n",
      "25%                          -5.348102e-01   \n",
      "50%                          -2.120799e-01   \n",
      "75%                           2.305214e-02   \n",
      "max                           3.236524e+00   \n",
      "\n",
      "        Base excess (arterial blood gas analysis)  \\\n",
      "count                                2.700000e+01   \n",
      "unique                                        NaN   \n",
      "top                                           NaN   \n",
      "freq                                          NaN   \n",
      "mean                                -1.655685e-09   \n",
      "std                                  1.019049e+00   \n",
      "min                                 -3.082674e+00   \n",
      "25%                                 -3.308668e-01   \n",
      "50%                                 -1.181667e-02   \n",
      "75%                                  6.661649e-01   \n",
      "max                                  1.703078e+00   \n",
      "\n",
      "        pH (arterial blood gas analysis)  \\\n",
      "count                       2.700000e+01   \n",
      "unique                               NaN   \n",
      "top                                  NaN   \n",
      "freq                                 NaN   \n",
      "mean                        4.139211e-10   \n",
      "std                         1.019049e+00   \n",
      "min                        -3.568877e+00   \n",
      "25%                        -9.210583e-02   \n",
      "50%                         2.942021e-01   \n",
      "75%                         5.115003e-01   \n",
      "max                         1.042674e+00   \n",
      "\n",
      "        Total CO2 (arterial blood gas analysis)  \\\n",
      "count                              2.700000e+01   \n",
      "unique                                      NaN   \n",
      "top                                         NaN   \n",
      "freq                                        NaN   \n",
      "mean                              -7.472139e-09   \n",
      "std                                1.019049e+00   \n",
      "min                               -2.925618e+00   \n",
      "25%                               -5.117720e-01   \n",
      "50%                                7.743482e-02   \n",
      "75%                                4.385609e-01   \n",
      "max                                1.940087e+00   \n",
      "\n",
      "        HCO3 (arterial blood gas analysis)  pO2 (arterial blood gas analysis)  \\\n",
      "count                         2.700000e+01                       2.700000e+01   \n",
      "unique                                 NaN                                NaN   \n",
      "top                                    NaN                                NaN   \n",
      "freq                                   NaN                                NaN   \n",
      "mean                          6.070843e-09                      -2.469729e-08   \n",
      "std                           1.019049e+00                       1.019049e+00   \n",
      "min                          -2.985592e+00                      -1.175907e+00   \n",
      "25%                          -5.397211e-01                      -8.169898e-01   \n",
      "50%                           5.633191e-02                      -1.599549e-01   \n",
      "75%                           5.085100e-01                       4.500090e-01   \n",
      "max                           2.029471e+00                       2.205371e+00   \n",
      "\n",
      "        Arteiral Fio2      Phosphor  ctO2 (arterial blood gas analysis)  \n",
      "count    2.000000e+01  2.000000e+01                        2.700000e+01  \n",
      "unique            NaN           NaN                                 NaN  \n",
      "top               NaN           NaN                                 NaN  \n",
      "freq              NaN           NaN                                 NaN  \n",
      "mean     4.656613e-09  6.332993e-09                        5.243001e-09  \n",
      "std      1.025978e+00  1.025978e+00                        1.019049e+00  \n",
      "min     -1.532932e+00 -1.480526e+00                       -2.900254e+00  \n",
      "25%     -1.214975e-01 -5.527296e-01                       -4.852787e-01  \n",
      "50%     -1.174366e-02 -1.381825e-01                        1.826928e-01  \n",
      "75%     -1.174366e-02  2.763648e-01                        5.937525e-01  \n",
      "max      2.841856e+00  2.862350e+00                        1.826932e+00  \n",
      "\n",
      "[11 rows x 111 columns]\n"
     ]
    }
   ],
   "source": [
    "print(df.describe(include='all'))"
   ]
  },
  {
   "cell_type": "markdown",
   "metadata": {},
   "source": [
    "On voit ici que tout n'est pas affiché, on va essayé de voir pour toutes les colonnes le nombre de données renseignées (ie, le nbr de missing values)."
   ]
  },
  {
   "cell_type": "code",
   "execution_count": 118,
   "metadata": {},
   "outputs": [
    {
     "name": "stdout",
     "output_type": "stream",
     "text": [
      "Patient ID --> 5644\n",
      "Patient age quantile --> 5644.0\n",
      "SARS-Cov-2 exam result --> 5644\n",
      "Patient addmited to regular ward (1=yes, 0=no) --> 5644.0\n",
      "Patient addmited to semi-intensive unit (1=yes, 0=no) --> 5644.0\n",
      "Patient addmited to intensive care unit (1=yes, 0=no) --> 5644.0\n",
      "Hematocrit --> 603.0\n",
      "Hemoglobin --> 603.0\n",
      "Platelets --> 602.0\n",
      "Mean platelet volume  --> 599.0\n",
      "Red blood Cells --> 602.0\n",
      "Lymphocytes --> 602.0\n",
      "Mean corpuscular hemoglobin concentration (MCHC) --> 602.0\n",
      "Leukocytes --> 602.0\n",
      "Basophils --> 602.0\n",
      "Mean corpuscular hemoglobin (MCH) --> 602.0\n",
      "Eosinophils --> 602.0\n",
      "Mean corpuscular volume (MCV) --> 602.0\n",
      "Monocytes --> 601.0\n",
      "Red blood cell distribution width (RDW) --> 602.0\n",
      "Serum Glucose --> 208.0\n",
      "Respiratory Syncytial Virus --> 1354\n",
      "Influenza A --> 1354\n",
      "Influenza B --> 1354\n",
      "Parainfluenza 1 --> 1352\n",
      "CoronavirusNL63 --> 1352\n",
      "Rhinovirus/Enterovirus --> 1352\n",
      "Mycoplasma pneumoniae --> 0.0\n",
      "Coronavirus HKU1 --> 1352\n",
      "Parainfluenza 3 --> 1352\n",
      "Chlamydophila pneumoniae --> 1352\n",
      "Adenovirus --> 1352\n",
      "Parainfluenza 4 --> 1352\n",
      "Coronavirus229E --> 1352\n",
      "CoronavirusOC43 --> 1352\n",
      "Inf A H1N1 2009 --> 1352\n",
      "Bordetella pertussis --> 1352\n",
      "Metapneumovirus --> 1352\n",
      "Parainfluenza 2 --> 1352\n",
      "Neutrophils --> 513.0\n",
      "Urea --> 397.0\n",
      "Proteina C reativa mg/dL --> 506.0\n",
      "Creatinine --> 424.0\n",
      "Potassium --> 371.0\n",
      "Sodium --> 370.0\n",
      "Influenza B, rapid test --> 820\n",
      "Influenza A, rapid test --> 820\n",
      "Alanine transaminase --> 225.0\n",
      "Aspartate transaminase --> 226.0\n",
      "Gamma-glutamyltransferase  --> 153.0\n",
      "Total Bilirubin --> 182.0\n",
      "Direct Bilirubin --> 182.0\n",
      "Indirect Bilirubin --> 182.0\n",
      "Alkaline phosphatase --> 144.0\n",
      "Ionized calcium  --> 50.0\n",
      "Strepto A --> 332\n",
      "Magnesium --> 40.0\n",
      "pCO2 (venous blood gas analysis) --> 136.0\n",
      "Hb saturation (venous blood gas analysis) --> 136.0\n",
      "Base excess (venous blood gas analysis) --> 136.0\n",
      "pO2 (venous blood gas analysis) --> 136.0\n",
      "Fio2 (venous blood gas analysis) --> 1.0\n",
      "Total CO2 (venous blood gas analysis) --> 136.0\n",
      "pH (venous blood gas analysis) --> 136.0\n",
      "HCO3 (venous blood gas analysis) --> 136.0\n",
      "Rods # --> 97.0\n",
      "Segmented --> 97.0\n",
      "Promyelocytes --> 97.0\n",
      "Metamyelocytes --> 97.0\n",
      "Myelocytes --> 97.0\n",
      "Myeloblasts --> 97.0\n",
      "Urine - Esterase --> 60\n",
      "Urine - Aspect --> 70\n",
      "Urine - pH --> 70\n",
      "Urine - Hemoglobin --> 70\n",
      "Urine - Bile pigments --> 70\n",
      "Urine - Ketone Bodies --> 57\n",
      "Urine - Nitrite --> 1\n",
      "Urine - Density --> 70.0\n",
      "Urine - Urobilinogen --> 69\n",
      "Urine - Protein --> 60\n",
      "Urine - Sugar --> 0.0\n",
      "Urine - Leukocytes --> 70\n",
      "Urine - Crystals --> 70\n",
      "Urine - Red blood cells --> 70.0\n",
      "Urine - Hyaline cylinders --> 67\n",
      "Urine - Granular cylinders --> 69\n",
      "Urine - Yeasts --> 70\n",
      "Urine - Color --> 70\n",
      "Partial thromboplastin time (PTT)  --> 0.0\n",
      "Relationship (Patient/Normal) --> 91.0\n",
      "International normalized ratio (INR) --> 133.0\n",
      "Lactic Dehydrogenase --> 101.0\n",
      "Prothrombin time (PT), Activity --> 0.0\n",
      "Vitamin B12 --> 3.0\n",
      "Creatine phosphokinase (CPK)  --> 104.0\n",
      "Ferritin --> 23.0\n",
      "Arterial Lactic Acid --> 27.0\n",
      "Lipase dosage --> 8.0\n",
      "D-Dimer --> 0.0\n",
      "Albumin --> 13.0\n",
      "Hb saturation (arterial blood gases) --> 27.0\n",
      "pCO2 (arterial blood gas analysis) --> 27.0\n",
      "Base excess (arterial blood gas analysis) --> 27.0\n",
      "pH (arterial blood gas analysis) --> 27.0\n",
      "Total CO2 (arterial blood gas analysis) --> 27.0\n",
      "HCO3 (arterial blood gas analysis) --> 27.0\n",
      "pO2 (arterial blood gas analysis) --> 27.0\n",
      "Arteiral Fio2 --> 20.0\n",
      "Phosphor --> 20.0\n",
      "ctO2 (arterial blood gas analysis) --> 27.0\n"
     ]
    }
   ],
   "source": [
    "description = df.describe(include='all') # C'est un dataset\n",
    "for i in range(description.shape[1]):\n",
    "    print(str(list_col[i]) + \" --> \" + str(description.iloc[0,i]))"
   ]
  },
  {
   "cell_type": "markdown",
   "metadata": {},
   "source": [
    "Visiblement il y a des colonnes sans valeurs à l'intérieur, on va les supprimer."
   ]
  },
  {
   "cell_type": "code",
   "execution_count": 119,
   "metadata": {},
   "outputs": [
    {
     "name": "stdout",
     "output_type": "stream",
     "text": [
      "Mycoplasma pneumoniae\n",
      "Urine - Sugar\n",
      "Partial thromboplastin time (PTT) \n",
      "Prothrombin time (PT), Activity\n",
      "D-Dimer\n",
      "(5644, 106)\n"
     ]
    }
   ],
   "source": [
    "for i in range(df.shape[1]):\n",
    "    if description.iloc[0,i] == 0.0:\n",
    "        df = df.drop(str(list_col[i]), axis = 1)\n",
    "        print(list_col[i])\n",
    "print(df.shape)"
   ]
  },
  {
   "cell_type": "markdown",
   "metadata": {},
   "source": [
    "Ok on à supprimé ces colonnes car elle n'ont aucune valeur à l'intérieur. On va maintenant regrouper les colonnes par nombre de features."
   ]
  },
  {
   "cell_type": "code",
   "execution_count": 120,
   "metadata": {},
   "outputs": [
    {
     "data": {
      "text/plain": [
       "{5644: ['Patient ID',\n",
       "  'Patient age quantile',\n",
       "  'SARS-Cov-2 exam result',\n",
       "  'Patient addmited to regular ward (1=yes, 0=no)',\n",
       "  'Patient addmited to semi-intensive unit (1=yes, 0=no)',\n",
       "  'Patient addmited to intensive care unit (1=yes, 0=no)'],\n",
       " 603.0: ['Hematocrit', 'Hemoglobin'],\n",
       " 602.0: ['Platelets',\n",
       "  'Red blood Cells',\n",
       "  'Lymphocytes',\n",
       "  'Mean corpuscular hemoglobin concentration\\xa0(MCHC)',\n",
       "  'Leukocytes',\n",
       "  'Basophils',\n",
       "  'Mean corpuscular hemoglobin (MCH)',\n",
       "  'Eosinophils',\n",
       "  'Mean corpuscular volume (MCV)',\n",
       "  'Red blood cell distribution width (RDW)'],\n",
       " 599.0: ['Mean platelet volume '],\n",
       " 601.0: ['Monocytes'],\n",
       " 208.0: ['Serum Glucose'],\n",
       " 1354: ['Respiratory Syncytial Virus', 'Influenza A', 'Influenza B'],\n",
       " 1352: ['Parainfluenza 1',\n",
       "  'CoronavirusNL63',\n",
       "  'Rhinovirus/Enterovirus',\n",
       "  'Coronavirus HKU1',\n",
       "  'Parainfluenza 3',\n",
       "  'Chlamydophila pneumoniae',\n",
       "  'Adenovirus',\n",
       "  'Parainfluenza 4',\n",
       "  'Coronavirus229E',\n",
       "  'CoronavirusOC43',\n",
       "  'Inf A H1N1 2009',\n",
       "  'Bordetella pertussis',\n",
       "  'Metapneumovirus',\n",
       "  'Parainfluenza 2'],\n",
       " 0.0: ['Mycoplasma pneumoniae',\n",
       "  'Urine - Sugar',\n",
       "  'Partial thromboplastin time\\xa0(PTT)\\xa0',\n",
       "  'Prothrombin time (PT), Activity',\n",
       "  'D-Dimer'],\n",
       " 513.0: ['Neutrophils'],\n",
       " 397.0: ['Urea'],\n",
       " 506.0: ['Proteina C reativa mg/dL'],\n",
       " 424.0: ['Creatinine'],\n",
       " 371.0: ['Potassium'],\n",
       " 370.0: ['Sodium'],\n",
       " 820: ['Influenza B, rapid test', 'Influenza A, rapid test'],\n",
       " 225.0: ['Alanine transaminase'],\n",
       " 226.0: ['Aspartate transaminase'],\n",
       " 153.0: ['Gamma-glutamyltransferase\\xa0'],\n",
       " 182.0: ['Total Bilirubin', 'Direct Bilirubin', 'Indirect Bilirubin'],\n",
       " 144.0: ['Alkaline phosphatase'],\n",
       " 50.0: ['Ionized calcium\\xa0'],\n",
       " 332: ['Strepto A'],\n",
       " 40.0: ['Magnesium'],\n",
       " 136.0: ['pCO2 (venous blood gas analysis)',\n",
       "  'Hb saturation (venous blood gas analysis)',\n",
       "  'Base excess (venous blood gas analysis)',\n",
       "  'pO2 (venous blood gas analysis)',\n",
       "  'Total CO2 (venous blood gas analysis)',\n",
       "  'pH (venous blood gas analysis)',\n",
       "  'HCO3 (venous blood gas analysis)'],\n",
       " 1.0: ['Fio2 (venous blood gas analysis)', 'Urine - Nitrite'],\n",
       " 97.0: ['Rods #',\n",
       "  'Segmented',\n",
       "  'Promyelocytes',\n",
       "  'Metamyelocytes',\n",
       "  'Myelocytes',\n",
       "  'Myeloblasts'],\n",
       " 60: ['Urine - Esterase', 'Urine - Protein'],\n",
       " 70: ['Urine - Aspect',\n",
       "  'Urine - pH',\n",
       "  'Urine - Hemoglobin',\n",
       "  'Urine - Bile pigments',\n",
       "  'Urine - Density',\n",
       "  'Urine - Leukocytes',\n",
       "  'Urine - Crystals',\n",
       "  'Urine - Red blood cells',\n",
       "  'Urine - Yeasts',\n",
       "  'Urine - Color'],\n",
       " 57: ['Urine - Ketone Bodies'],\n",
       " 69: ['Urine - Urobilinogen', 'Urine - Granular cylinders'],\n",
       " 67: ['Urine - Hyaline cylinders'],\n",
       " 91.0: ['Relationship (Patient/Normal)'],\n",
       " 133.0: ['International normalized ratio (INR)'],\n",
       " 101.0: ['Lactic Dehydrogenase'],\n",
       " 3.0: ['Vitamin B12'],\n",
       " 104.0: ['Creatine phosphokinase\\xa0(CPK)\\xa0'],\n",
       " 23.0: ['Ferritin'],\n",
       " 27.0: ['Arterial Lactic Acid',\n",
       "  'Hb saturation (arterial blood gases)',\n",
       "  'pCO2 (arterial blood gas analysis)',\n",
       "  'Base excess (arterial blood gas analysis)',\n",
       "  'pH (arterial blood gas analysis)',\n",
       "  'Total CO2 (arterial blood gas analysis)',\n",
       "  'HCO3 (arterial blood gas analysis)',\n",
       "  'pO2 (arterial blood gas analysis)',\n",
       "  'ctO2 (arterial blood gas analysis)'],\n",
       " 8.0: ['Lipase dosage'],\n",
       " 13.0: ['Albumin'],\n",
       " 20.0: ['Arteiral Fio2', 'Phosphor']}"
      ]
     },
     "execution_count": 120,
     "metadata": {},
     "output_type": "execute_result"
    }
   ],
   "source": [
    "dic = {}\n",
    "nbr_rows = description.iloc[0,:]\n",
    "for i in range(nbr_rows.shape[0]):\n",
    "    if nbr_rows.iloc[i] not in dic:\n",
    "        dic[nbr_rows.iloc[i]] = []\n",
    "    dic[nbr_rows.iloc[i]].append(nbr_rows.index[i])\n",
    "dic"
   ]
  },
  {
   "cell_type": "markdown",
   "metadata": {},
   "source": [
    "Let's look into at the target: SARS-Cov-2 exam result"
   ]
  },
  {
   "cell_type": "code",
   "execution_count": 121,
   "metadata": {},
   "outputs": [
    {
     "data": {
      "text/plain": [
       "negative    5086\n",
       "positive     558\n",
       "Name: SARS-Cov-2 exam result, dtype: int64"
      ]
     },
     "execution_count": 121,
     "metadata": {},
     "output_type": "execute_result"
    }
   ],
   "source": [
    "df.iloc[:,2].value_counts()"
   ]
  },
  {
   "cell_type": "code",
   "execution_count": 122,
   "metadata": {},
   "outputs": [
    {
     "name": "stdout",
     "output_type": "stream",
     "text": [
      "0.10971293747542273\n"
     ]
    }
   ],
   "source": [
    "print(df.iloc[:,2].value_counts().iloc[1]/df.iloc[:,2].value_counts().iloc[0])"
   ]
  },
  {
   "cell_type": "markdown",
   "metadata": {},
   "source": [
    "Around 10% of people in this dataset where tested positive to the COVID test.\n",
    "We still need to remove features from this dataset."
   ]
  },
  {
   "cell_type": "code",
   "execution_count": 123,
   "metadata": {},
   "outputs": [
    {
     "data": {
      "text/plain": [
       "0    5565\n",
       "1      79\n",
       "Name: Patient addmited to regular ward (1=yes, 0=no), dtype: int64"
      ]
     },
     "execution_count": 123,
     "metadata": {},
     "output_type": "execute_result"
    }
   ],
   "source": [
    "df.iloc[:,3].value_counts()"
   ]
  },
  {
   "cell_type": "code",
   "execution_count": 124,
   "metadata": {},
   "outputs": [
    {
     "data": {
      "text/plain": [
       "(36, 2)"
      ]
     },
     "execution_count": 124,
     "metadata": {},
     "output_type": "execute_result"
    }
   ],
   "source": [
    "df.loc[(df['Patient addmited to regular ward (1=yes, 0=no)'] == 1) & (df['SARS-Cov-2 exam result'] == 'positive'), ['Patient addmited to regular ward (1=yes, 0=no)','SARS-Cov-2 exam result']].shape"
   ]
  },
  {
   "cell_type": "code",
   "execution_count": 125,
   "metadata": {},
   "outputs": [
    {
     "data": {
      "text/plain": [
       "0    5594\n",
       "1      50\n",
       "Name: Patient addmited to semi-intensive unit (1=yes, 0=no), dtype: int64"
      ]
     },
     "execution_count": 125,
     "metadata": {},
     "output_type": "execute_result"
    }
   ],
   "source": [
    "df.iloc[:,4].value_counts()"
   ]
  },
  {
   "cell_type": "code",
   "execution_count": 126,
   "metadata": {},
   "outputs": [
    {
     "data": {
      "text/plain": [
       "(8, 2)"
      ]
     },
     "execution_count": 126,
     "metadata": {},
     "output_type": "execute_result"
    }
   ],
   "source": [
    "df.loc[(df['Patient addmited to semi-intensive unit (1=yes, 0=no)'] == 1) & (df['SARS-Cov-2 exam result'] == 'positive'), ['Patient addmited to semi-intensive unit (1=yes, 0=no)','SARS-Cov-2 exam result']].shape"
   ]
  },
  {
   "cell_type": "code",
   "execution_count": 127,
   "metadata": {},
   "outputs": [
    {
     "data": {
      "text/plain": [
       "0    5603\n",
       "1      41\n",
       "Name: Patient addmited to intensive care unit (1=yes, 0=no), dtype: int64"
      ]
     },
     "execution_count": 127,
     "metadata": {},
     "output_type": "execute_result"
    }
   ],
   "source": [
    "df.iloc[:,5].value_counts()"
   ]
  },
  {
   "cell_type": "code",
   "execution_count": 128,
   "metadata": {},
   "outputs": [
    {
     "data": {
      "text/plain": [
       "(8, 2)"
      ]
     },
     "execution_count": 128,
     "metadata": {},
     "output_type": "execute_result"
    }
   ],
   "source": [
    "df.loc[(df['Patient addmited to intensive care unit (1=yes, 0=no)'] == 1) & (df['SARS-Cov-2 exam result'] == 'positive'), ['Patient addmited to intensive care unit (1=yes, 0=no)','SARS-Cov-2 exam result']].shape"
   ]
  },
  {
   "cell_type": "markdown",
   "metadata": {},
   "source": [
    "Pas besoin de ces 3 dernières colonnes, elle indiquent les patients hospitalisés mais ne permettent pas de déterminer si oui ou non un patient est infecté."
   ]
  },
  {
   "cell_type": "code",
   "execution_count": 129,
   "metadata": {},
   "outputs": [
    {
     "data": {
      "text/html": [
       "<div>\n",
       "<style scoped>\n",
       "    .dataframe tbody tr th:only-of-type {\n",
       "        vertical-align: middle;\n",
       "    }\n",
       "\n",
       "    .dataframe tbody tr th {\n",
       "        vertical-align: top;\n",
       "    }\n",
       "\n",
       "    .dataframe thead th {\n",
       "        text-align: right;\n",
       "    }\n",
       "</style>\n",
       "<table border=\"1\" class=\"dataframe\">\n",
       "  <thead>\n",
       "    <tr style=\"text-align: right;\">\n",
       "      <th></th>\n",
       "      <th>Patient age quantile</th>\n",
       "      <th>SARS-Cov-2 exam result</th>\n",
       "      <th>Hematocrit</th>\n",
       "      <th>Hemoglobin</th>\n",
       "      <th>Platelets</th>\n",
       "      <th>Mean platelet volume</th>\n",
       "      <th>Red blood Cells</th>\n",
       "      <th>Lymphocytes</th>\n",
       "      <th>Mean corpuscular hemoglobin concentration (MCHC)</th>\n",
       "      <th>Leukocytes</th>\n",
       "      <th>...</th>\n",
       "      <th>Hb saturation (arterial blood gases)</th>\n",
       "      <th>pCO2 (arterial blood gas analysis)</th>\n",
       "      <th>Base excess (arterial blood gas analysis)</th>\n",
       "      <th>pH (arterial blood gas analysis)</th>\n",
       "      <th>Total CO2 (arterial blood gas analysis)</th>\n",
       "      <th>HCO3 (arterial blood gas analysis)</th>\n",
       "      <th>pO2 (arterial blood gas analysis)</th>\n",
       "      <th>Arteiral Fio2</th>\n",
       "      <th>Phosphor</th>\n",
       "      <th>ctO2 (arterial blood gas analysis)</th>\n",
       "    </tr>\n",
       "  </thead>\n",
       "  <tbody>\n",
       "    <tr>\n",
       "      <th>0</th>\n",
       "      <td>13</td>\n",
       "      <td>negative</td>\n",
       "      <td>NaN</td>\n",
       "      <td>NaN</td>\n",
       "      <td>NaN</td>\n",
       "      <td>NaN</td>\n",
       "      <td>NaN</td>\n",
       "      <td>NaN</td>\n",
       "      <td>NaN</td>\n",
       "      <td>NaN</td>\n",
       "      <td>...</td>\n",
       "      <td>NaN</td>\n",
       "      <td>NaN</td>\n",
       "      <td>NaN</td>\n",
       "      <td>NaN</td>\n",
       "      <td>NaN</td>\n",
       "      <td>NaN</td>\n",
       "      <td>NaN</td>\n",
       "      <td>NaN</td>\n",
       "      <td>NaN</td>\n",
       "      <td>NaN</td>\n",
       "    </tr>\n",
       "    <tr>\n",
       "      <th>1</th>\n",
       "      <td>17</td>\n",
       "      <td>negative</td>\n",
       "      <td>0.236515</td>\n",
       "      <td>-0.02234</td>\n",
       "      <td>-0.517413</td>\n",
       "      <td>0.010677</td>\n",
       "      <td>0.102004</td>\n",
       "      <td>0.318366</td>\n",
       "      <td>-0.95079</td>\n",
       "      <td>-0.09461</td>\n",
       "      <td>...</td>\n",
       "      <td>NaN</td>\n",
       "      <td>NaN</td>\n",
       "      <td>NaN</td>\n",
       "      <td>NaN</td>\n",
       "      <td>NaN</td>\n",
       "      <td>NaN</td>\n",
       "      <td>NaN</td>\n",
       "      <td>NaN</td>\n",
       "      <td>NaN</td>\n",
       "      <td>NaN</td>\n",
       "    </tr>\n",
       "    <tr>\n",
       "      <th>2</th>\n",
       "      <td>8</td>\n",
       "      <td>negative</td>\n",
       "      <td>NaN</td>\n",
       "      <td>NaN</td>\n",
       "      <td>NaN</td>\n",
       "      <td>NaN</td>\n",
       "      <td>NaN</td>\n",
       "      <td>NaN</td>\n",
       "      <td>NaN</td>\n",
       "      <td>NaN</td>\n",
       "      <td>...</td>\n",
       "      <td>NaN</td>\n",
       "      <td>NaN</td>\n",
       "      <td>NaN</td>\n",
       "      <td>NaN</td>\n",
       "      <td>NaN</td>\n",
       "      <td>NaN</td>\n",
       "      <td>NaN</td>\n",
       "      <td>NaN</td>\n",
       "      <td>NaN</td>\n",
       "      <td>NaN</td>\n",
       "    </tr>\n",
       "    <tr>\n",
       "      <th>3</th>\n",
       "      <td>5</td>\n",
       "      <td>negative</td>\n",
       "      <td>NaN</td>\n",
       "      <td>NaN</td>\n",
       "      <td>NaN</td>\n",
       "      <td>NaN</td>\n",
       "      <td>NaN</td>\n",
       "      <td>NaN</td>\n",
       "      <td>NaN</td>\n",
       "      <td>NaN</td>\n",
       "      <td>...</td>\n",
       "      <td>NaN</td>\n",
       "      <td>NaN</td>\n",
       "      <td>NaN</td>\n",
       "      <td>NaN</td>\n",
       "      <td>NaN</td>\n",
       "      <td>NaN</td>\n",
       "      <td>NaN</td>\n",
       "      <td>NaN</td>\n",
       "      <td>NaN</td>\n",
       "      <td>NaN</td>\n",
       "    </tr>\n",
       "    <tr>\n",
       "      <th>4</th>\n",
       "      <td>15</td>\n",
       "      <td>negative</td>\n",
       "      <td>NaN</td>\n",
       "      <td>NaN</td>\n",
       "      <td>NaN</td>\n",
       "      <td>NaN</td>\n",
       "      <td>NaN</td>\n",
       "      <td>NaN</td>\n",
       "      <td>NaN</td>\n",
       "      <td>NaN</td>\n",
       "      <td>...</td>\n",
       "      <td>NaN</td>\n",
       "      <td>NaN</td>\n",
       "      <td>NaN</td>\n",
       "      <td>NaN</td>\n",
       "      <td>NaN</td>\n",
       "      <td>NaN</td>\n",
       "      <td>NaN</td>\n",
       "      <td>NaN</td>\n",
       "      <td>NaN</td>\n",
       "      <td>NaN</td>\n",
       "    </tr>\n",
       "  </tbody>\n",
       "</table>\n",
       "<p>5 rows × 102 columns</p>\n",
       "</div>"
      ],
      "text/plain": [
       "   Patient age quantile SARS-Cov-2 exam result  Hematocrit  Hemoglobin  \\\n",
       "0                    13               negative         NaN         NaN   \n",
       "1                    17               negative    0.236515    -0.02234   \n",
       "2                     8               negative         NaN         NaN   \n",
       "3                     5               negative         NaN         NaN   \n",
       "4                    15               negative         NaN         NaN   \n",
       "\n",
       "   Platelets  Mean platelet volume   Red blood Cells  Lymphocytes  \\\n",
       "0        NaN                    NaN              NaN          NaN   \n",
       "1  -0.517413               0.010677         0.102004     0.318366   \n",
       "2        NaN                    NaN              NaN          NaN   \n",
       "3        NaN                    NaN              NaN          NaN   \n",
       "4        NaN                    NaN              NaN          NaN   \n",
       "\n",
       "   Mean corpuscular hemoglobin concentration (MCHC)  Leukocytes  ...  \\\n",
       "0                                               NaN         NaN  ...   \n",
       "1                                          -0.95079    -0.09461  ...   \n",
       "2                                               NaN         NaN  ...   \n",
       "3                                               NaN         NaN  ...   \n",
       "4                                               NaN         NaN  ...   \n",
       "\n",
       "   Hb saturation (arterial blood gases)  pCO2 (arterial blood gas analysis)  \\\n",
       "0                                   NaN                                 NaN   \n",
       "1                                   NaN                                 NaN   \n",
       "2                                   NaN                                 NaN   \n",
       "3                                   NaN                                 NaN   \n",
       "4                                   NaN                                 NaN   \n",
       "\n",
       "   Base excess (arterial blood gas analysis)  \\\n",
       "0                                        NaN   \n",
       "1                                        NaN   \n",
       "2                                        NaN   \n",
       "3                                        NaN   \n",
       "4                                        NaN   \n",
       "\n",
       "   pH (arterial blood gas analysis)  Total CO2 (arterial blood gas analysis)  \\\n",
       "0                               NaN                                      NaN   \n",
       "1                               NaN                                      NaN   \n",
       "2                               NaN                                      NaN   \n",
       "3                               NaN                                      NaN   \n",
       "4                               NaN                                      NaN   \n",
       "\n",
       "   HCO3 (arterial blood gas analysis)  pO2 (arterial blood gas analysis)  \\\n",
       "0                                 NaN                                NaN   \n",
       "1                                 NaN                                NaN   \n",
       "2                                 NaN                                NaN   \n",
       "3                                 NaN                                NaN   \n",
       "4                                 NaN                                NaN   \n",
       "\n",
       "  Arteiral Fio2 Phosphor ctO2 (arterial blood gas analysis)  \n",
       "0           NaN      NaN                                NaN  \n",
       "1           NaN      NaN                                NaN  \n",
       "2           NaN      NaN                                NaN  \n",
       "3           NaN      NaN                                NaN  \n",
       "4           NaN      NaN                                NaN  \n",
       "\n",
       "[5 rows x 102 columns]"
      ]
     },
     "execution_count": 129,
     "metadata": {},
     "output_type": "execute_result"
    }
   ],
   "source": [
    "df = df.drop(['Patient addmited to intensive care unit (1=yes, 0=no)','Patient addmited to semi-intensive unit (1=yes, 0=no)', 'Patient addmited to regular ward (1=yes, 0=no)', 'Patient ID'], axis = 1)\n",
    "df.head()"
   ]
  },
  {
   "cell_type": "code",
   "execution_count": 130,
   "metadata": {},
   "outputs": [
    {
     "data": {
      "text/html": [
       "<div>\n",
       "<style scoped>\n",
       "    .dataframe tbody tr th:only-of-type {\n",
       "        vertical-align: middle;\n",
       "    }\n",
       "\n",
       "    .dataframe tbody tr th {\n",
       "        vertical-align: top;\n",
       "    }\n",
       "\n",
       "    .dataframe thead th {\n",
       "        text-align: right;\n",
       "    }\n",
       "</style>\n",
       "<table border=\"1\" class=\"dataframe\">\n",
       "  <thead>\n",
       "    <tr style=\"text-align: right;\">\n",
       "      <th></th>\n",
       "      <th>Patient age quantile</th>\n",
       "      <th>SARS-Cov-2 exam result</th>\n",
       "      <th>Hematocrit</th>\n",
       "      <th>Hemoglobin</th>\n",
       "      <th>Platelets</th>\n",
       "      <th>Mean platelet volume</th>\n",
       "      <th>Red blood Cells</th>\n",
       "      <th>Lymphocytes</th>\n",
       "      <th>Mean corpuscular hemoglobin concentration (MCHC)</th>\n",
       "      <th>Leukocytes</th>\n",
       "      <th>...</th>\n",
       "      <th>Hb saturation (arterial blood gases)</th>\n",
       "      <th>pCO2 (arterial blood gas analysis)</th>\n",
       "      <th>Base excess (arterial blood gas analysis)</th>\n",
       "      <th>pH (arterial blood gas analysis)</th>\n",
       "      <th>Total CO2 (arterial blood gas analysis)</th>\n",
       "      <th>HCO3 (arterial blood gas analysis)</th>\n",
       "      <th>pO2 (arterial blood gas analysis)</th>\n",
       "      <th>Arteiral Fio2</th>\n",
       "      <th>Phosphor</th>\n",
       "      <th>ctO2 (arterial blood gas analysis)</th>\n",
       "    </tr>\n",
       "  </thead>\n",
       "  <tbody>\n",
       "    <tr>\n",
       "      <th>0</th>\n",
       "      <td>13</td>\n",
       "      <td>0</td>\n",
       "      <td>NaN</td>\n",
       "      <td>NaN</td>\n",
       "      <td>NaN</td>\n",
       "      <td>NaN</td>\n",
       "      <td>NaN</td>\n",
       "      <td>NaN</td>\n",
       "      <td>NaN</td>\n",
       "      <td>NaN</td>\n",
       "      <td>...</td>\n",
       "      <td>NaN</td>\n",
       "      <td>NaN</td>\n",
       "      <td>NaN</td>\n",
       "      <td>NaN</td>\n",
       "      <td>NaN</td>\n",
       "      <td>NaN</td>\n",
       "      <td>NaN</td>\n",
       "      <td>NaN</td>\n",
       "      <td>NaN</td>\n",
       "      <td>NaN</td>\n",
       "    </tr>\n",
       "    <tr>\n",
       "      <th>1</th>\n",
       "      <td>17</td>\n",
       "      <td>0</td>\n",
       "      <td>0.236515</td>\n",
       "      <td>-0.02234</td>\n",
       "      <td>-0.517413</td>\n",
       "      <td>0.010677</td>\n",
       "      <td>0.102004</td>\n",
       "      <td>0.318366</td>\n",
       "      <td>-0.95079</td>\n",
       "      <td>-0.09461</td>\n",
       "      <td>...</td>\n",
       "      <td>NaN</td>\n",
       "      <td>NaN</td>\n",
       "      <td>NaN</td>\n",
       "      <td>NaN</td>\n",
       "      <td>NaN</td>\n",
       "      <td>NaN</td>\n",
       "      <td>NaN</td>\n",
       "      <td>NaN</td>\n",
       "      <td>NaN</td>\n",
       "      <td>NaN</td>\n",
       "    </tr>\n",
       "    <tr>\n",
       "      <th>2</th>\n",
       "      <td>8</td>\n",
       "      <td>0</td>\n",
       "      <td>NaN</td>\n",
       "      <td>NaN</td>\n",
       "      <td>NaN</td>\n",
       "      <td>NaN</td>\n",
       "      <td>NaN</td>\n",
       "      <td>NaN</td>\n",
       "      <td>NaN</td>\n",
       "      <td>NaN</td>\n",
       "      <td>...</td>\n",
       "      <td>NaN</td>\n",
       "      <td>NaN</td>\n",
       "      <td>NaN</td>\n",
       "      <td>NaN</td>\n",
       "      <td>NaN</td>\n",
       "      <td>NaN</td>\n",
       "      <td>NaN</td>\n",
       "      <td>NaN</td>\n",
       "      <td>NaN</td>\n",
       "      <td>NaN</td>\n",
       "    </tr>\n",
       "    <tr>\n",
       "      <th>3</th>\n",
       "      <td>5</td>\n",
       "      <td>0</td>\n",
       "      <td>NaN</td>\n",
       "      <td>NaN</td>\n",
       "      <td>NaN</td>\n",
       "      <td>NaN</td>\n",
       "      <td>NaN</td>\n",
       "      <td>NaN</td>\n",
       "      <td>NaN</td>\n",
       "      <td>NaN</td>\n",
       "      <td>...</td>\n",
       "      <td>NaN</td>\n",
       "      <td>NaN</td>\n",
       "      <td>NaN</td>\n",
       "      <td>NaN</td>\n",
       "      <td>NaN</td>\n",
       "      <td>NaN</td>\n",
       "      <td>NaN</td>\n",
       "      <td>NaN</td>\n",
       "      <td>NaN</td>\n",
       "      <td>NaN</td>\n",
       "    </tr>\n",
       "    <tr>\n",
       "      <th>4</th>\n",
       "      <td>15</td>\n",
       "      <td>0</td>\n",
       "      <td>NaN</td>\n",
       "      <td>NaN</td>\n",
       "      <td>NaN</td>\n",
       "      <td>NaN</td>\n",
       "      <td>NaN</td>\n",
       "      <td>NaN</td>\n",
       "      <td>NaN</td>\n",
       "      <td>NaN</td>\n",
       "      <td>...</td>\n",
       "      <td>NaN</td>\n",
       "      <td>NaN</td>\n",
       "      <td>NaN</td>\n",
       "      <td>NaN</td>\n",
       "      <td>NaN</td>\n",
       "      <td>NaN</td>\n",
       "      <td>NaN</td>\n",
       "      <td>NaN</td>\n",
       "      <td>NaN</td>\n",
       "      <td>NaN</td>\n",
       "    </tr>\n",
       "  </tbody>\n",
       "</table>\n",
       "<p>5 rows × 102 columns</p>\n",
       "</div>"
      ],
      "text/plain": [
       "   Patient age quantile  SARS-Cov-2 exam result  Hematocrit  Hemoglobin  \\\n",
       "0                    13                       0         NaN         NaN   \n",
       "1                    17                       0    0.236515    -0.02234   \n",
       "2                     8                       0         NaN         NaN   \n",
       "3                     5                       0         NaN         NaN   \n",
       "4                    15                       0         NaN         NaN   \n",
       "\n",
       "   Platelets  Mean platelet volume   Red blood Cells  Lymphocytes  \\\n",
       "0        NaN                    NaN              NaN          NaN   \n",
       "1  -0.517413               0.010677         0.102004     0.318366   \n",
       "2        NaN                    NaN              NaN          NaN   \n",
       "3        NaN                    NaN              NaN          NaN   \n",
       "4        NaN                    NaN              NaN          NaN   \n",
       "\n",
       "   Mean corpuscular hemoglobin concentration (MCHC)  Leukocytes  ...  \\\n",
       "0                                               NaN         NaN  ...   \n",
       "1                                          -0.95079    -0.09461  ...   \n",
       "2                                               NaN         NaN  ...   \n",
       "3                                               NaN         NaN  ...   \n",
       "4                                               NaN         NaN  ...   \n",
       "\n",
       "   Hb saturation (arterial blood gases)  pCO2 (arterial blood gas analysis)  \\\n",
       "0                                   NaN                                 NaN   \n",
       "1                                   NaN                                 NaN   \n",
       "2                                   NaN                                 NaN   \n",
       "3                                   NaN                                 NaN   \n",
       "4                                   NaN                                 NaN   \n",
       "\n",
       "   Base excess (arterial blood gas analysis)  \\\n",
       "0                                        NaN   \n",
       "1                                        NaN   \n",
       "2                                        NaN   \n",
       "3                                        NaN   \n",
       "4                                        NaN   \n",
       "\n",
       "   pH (arterial blood gas analysis)  Total CO2 (arterial blood gas analysis)  \\\n",
       "0                               NaN                                      NaN   \n",
       "1                               NaN                                      NaN   \n",
       "2                               NaN                                      NaN   \n",
       "3                               NaN                                      NaN   \n",
       "4                               NaN                                      NaN   \n",
       "\n",
       "   HCO3 (arterial blood gas analysis)  pO2 (arterial blood gas analysis)  \\\n",
       "0                                 NaN                                NaN   \n",
       "1                                 NaN                                NaN   \n",
       "2                                 NaN                                NaN   \n",
       "3                                 NaN                                NaN   \n",
       "4                                 NaN                                NaN   \n",
       "\n",
       "  Arteiral Fio2 Phosphor ctO2 (arterial blood gas analysis)  \n",
       "0           NaN      NaN                                NaN  \n",
       "1           NaN      NaN                                NaN  \n",
       "2           NaN      NaN                                NaN  \n",
       "3           NaN      NaN                                NaN  \n",
       "4           NaN      NaN                                NaN  \n",
       "\n",
       "[5 rows x 102 columns]"
      ]
     },
     "execution_count": 130,
     "metadata": {},
     "output_type": "execute_result"
    }
   ],
   "source": [
    "df['SARS-Cov-2 exam result'] = df['SARS-Cov-2 exam result'].map({'negative':0,'positive':1})\n",
    "df.head()"
   ]
  },
  {
   "cell_type": "markdown",
   "metadata": {},
   "source": [
    "Il serrait interessant de savoir ou sont les Missing Values dans ce dataset."
   ]
  },
  {
   "cell_type": "code",
   "execution_count": 135,
   "metadata": {},
   "outputs": [],
   "source": [
    "for i in range(len(df.values)):\n",
    "    if (df.iloc[i,1] == 0) & (df.iloc[i,2:].isnull == True):\n",
    "        print(\"ok\")"
   ]
  },
  {
   "cell_type": "code",
   "execution_count": 145,
   "metadata": {},
   "outputs": [],
   "source": [
    "useless_lines = []\n",
    "for i in range(df.shape[0]):\n",
    "    row_df = df.loc[i,:].isna().value_counts()\n",
    "    if row_df.iloc[0] == 100:\n",
    "        useless_lines.append(i)"
   ]
  },
  {
   "cell_type": "code",
   "execution_count": 146,
   "metadata": {},
   "outputs": [
    {
     "name": "stdout",
     "output_type": "stream",
     "text": [
      "3543\n"
     ]
    }
   ],
   "source": [
    "print(len(useless_lines))"
   ]
  },
  {
   "cell_type": "markdown",
   "metadata": {},
   "source": [
    "Visiblement, sur 3543 lignes du dataset ne sont renseigné que les deux premières colonnes."
   ]
  },
  {
   "cell_type": "code",
   "execution_count": 148,
   "metadata": {},
   "outputs": [
    {
     "name": "stdout",
     "output_type": "stream",
     "text": [
      "13\n",
      "0\n",
      "nan\n",
      "nan\n",
      "nan\n",
      "nan\n",
      "nan\n",
      "nan\n",
      "nan\n",
      "nan\n",
      "nan\n",
      "nan\n",
      "nan\n",
      "nan\n",
      "nan\n",
      "nan\n",
      "nan\n",
      "nan\n",
      "nan\n",
      "nan\n",
      "nan\n",
      "nan\n",
      "nan\n",
      "nan\n",
      "nan\n",
      "nan\n",
      "nan\n",
      "nan\n",
      "nan\n",
      "nan\n",
      "nan\n",
      "nan\n",
      "nan\n",
      "nan\n",
      "nan\n",
      "nan\n",
      "nan\n",
      "nan\n",
      "nan\n",
      "nan\n",
      "nan\n",
      "nan\n",
      "nan\n",
      "nan\n",
      "nan\n",
      "nan\n",
      "nan\n",
      "nan\n",
      "nan\n",
      "nan\n",
      "nan\n",
      "nan\n",
      "nan\n",
      "nan\n",
      "nan\n",
      "nan\n",
      "nan\n",
      "nan\n",
      "nan\n",
      "nan\n",
      "nan\n",
      "nan\n",
      "nan\n",
      "nan\n",
      "nan\n",
      "nan\n",
      "nan\n",
      "nan\n",
      "nan\n",
      "nan\n",
      "nan\n",
      "nan\n",
      "nan\n",
      "nan\n",
      "nan\n",
      "nan\n",
      "nan\n",
      "nan\n",
      "nan\n",
      "nan\n",
      "nan\n",
      "nan\n",
      "nan\n",
      "nan\n",
      "nan\n",
      "nan\n",
      "nan\n",
      "nan\n",
      "nan\n",
      "nan\n",
      "nan\n",
      "nan\n",
      "nan\n",
      "nan\n",
      "nan\n",
      "nan\n",
      "nan\n",
      "nan\n",
      "nan\n",
      "nan\n",
      "nan\n",
      "nan\n"
     ]
    }
   ],
   "source": [
    "for i in range(df.shape[1]):\n",
    "    print(df.iloc[0,i])"
   ]
  },
  {
   "cell_type": "markdown",
   "metadata": {},
   "source": [
    "Et c'est bien vérifié !"
   ]
  },
  {
   "cell_type": "code",
   "execution_count": 149,
   "metadata": {},
   "outputs": [
    {
     "name": "stdout",
     "output_type": "stream",
     "text": [
      "11    380\n",
      "4     366\n",
      "9     359\n",
      "0     334\n",
      "7     319\n",
      "2     315\n",
      "13    313\n",
      "14    299\n",
      "5     294\n",
      "6     281\n",
      "16    279\n",
      "19    275\n",
      "15    269\n",
      "17    263\n",
      "18    259\n",
      "3     251\n",
      "1     234\n",
      "12    197\n",
      "10    190\n",
      "8     167\n",
      "Name: Patient age quantile, dtype: int64\n"
     ]
    }
   ],
   "source": [
    "print(df.iloc[:,0].value_counts())"
   ]
  },
  {
   "cell_type": "code",
   "execution_count": 150,
   "metadata": {},
   "outputs": [
    {
     "data": {
      "text/plain": [
       "<matplotlib.axes._subplots.AxesSubplot at 0x1e062e0ec88>"
      ]
     },
     "execution_count": 150,
     "metadata": {},
     "output_type": "execute_result"
    },
    {
     "data": {
      "image/png": "[encoded data removed]",
      "text/plain": [
       "<Figure size 432x288 with 1 Axes>"
      ]
     },
     "metadata": {
      "needs_background": "light"
     },
     "output_type": "display_data"
    }
   ],
   "source": [
    "df['SARS-Cov-2 exam result'].value_counts(normalize=True).plot(kind='bar', alpha = 0.5)"
   ]
  },
  {
   "cell_type": "code",
   "execution_count": 243,
   "metadata": {},
   "outputs": [
    {
     "data": {
      "text/html": [
       "<div>\n",
       "<style scoped>\n",
       "    .dataframe tbody tr th:only-of-type {\n",
       "        vertical-align: middle;\n",
       "    }\n",
       "\n",
       "    .dataframe tbody tr th {\n",
       "        vertical-align: top;\n",
       "    }\n",
       "\n",
       "    .dataframe thead th {\n",
       "        text-align: right;\n",
       "    }\n",
       "</style>\n",
       "<table border=\"1\" class=\"dataframe\">\n",
       "  <thead>\n",
       "    <tr style=\"text-align: right;\">\n",
       "      <th></th>\n",
       "      <th>age</th>\n",
       "      <th>sex</th>\n",
       "      <th>cp</th>\n",
       "      <th>trestbps</th>\n",
       "      <th>chol</th>\n",
       "      <th>fbs</th>\n",
       "      <th>restecg</th>\n",
       "      <th>thalach</th>\n",
       "      <th>exang</th>\n",
       "      <th>oldpeak</th>\n",
       "      <th>slope</th>\n",
       "      <th>ca</th>\n",
       "      <th>thal</th>\n",
       "      <th>target</th>\n",
       "    </tr>\n",
       "  </thead>\n",
       "  <tbody>\n",
       "    <tr>\n",
       "      <th>0</th>\n",
       "      <td>63</td>\n",
       "      <td>1</td>\n",
       "      <td>3</td>\n",
       "      <td>145</td>\n",
       "      <td>233</td>\n",
       "      <td>1</td>\n",
       "      <td>0</td>\n",
       "      <td>150</td>\n",
       "      <td>0</td>\n",
       "      <td>2.3</td>\n",
       "      <td>0</td>\n",
       "      <td>0</td>\n",
       "      <td>1</td>\n",
       "      <td>1</td>\n",
       "    </tr>\n",
       "    <tr>\n",
       "      <th>1</th>\n",
       "      <td>37</td>\n",
       "      <td>1</td>\n",
       "      <td>2</td>\n",
       "      <td>130</td>\n",
       "      <td>250</td>\n",
       "      <td>0</td>\n",
       "      <td>1</td>\n",
       "      <td>187</td>\n",
       "      <td>0</td>\n",
       "      <td>3.5</td>\n",
       "      <td>0</td>\n",
       "      <td>0</td>\n",
       "      <td>2</td>\n",
       "      <td>1</td>\n",
       "    </tr>\n",
       "    <tr>\n",
       "      <th>2</th>\n",
       "      <td>41</td>\n",
       "      <td>0</td>\n",
       "      <td>1</td>\n",
       "      <td>130</td>\n",
       "      <td>204</td>\n",
       "      <td>0</td>\n",
       "      <td>0</td>\n",
       "      <td>172</td>\n",
       "      <td>0</td>\n",
       "      <td>1.4</td>\n",
       "      <td>2</td>\n",
       "      <td>0</td>\n",
       "      <td>2</td>\n",
       "      <td>1</td>\n",
       "    </tr>\n",
       "    <tr>\n",
       "      <th>3</th>\n",
       "      <td>56</td>\n",
       "      <td>1</td>\n",
       "      <td>1</td>\n",
       "      <td>120</td>\n",
       "      <td>236</td>\n",
       "      <td>0</td>\n",
       "      <td>1</td>\n",
       "      <td>178</td>\n",
       "      <td>0</td>\n",
       "      <td>0.8</td>\n",
       "      <td>2</td>\n",
       "      <td>0</td>\n",
       "      <td>2</td>\n",
       "      <td>1</td>\n",
       "    </tr>\n",
       "    <tr>\n",
       "      <th>4</th>\n",
       "      <td>57</td>\n",
       "      <td>0</td>\n",
       "      <td>0</td>\n",
       "      <td>120</td>\n",
       "      <td>354</td>\n",
       "      <td>0</td>\n",
       "      <td>1</td>\n",
       "      <td>163</td>\n",
       "      <td>1</td>\n",
       "      <td>0.6</td>\n",
       "      <td>2</td>\n",
       "      <td>0</td>\n",
       "      <td>2</td>\n",
       "      <td>1</td>\n",
       "    </tr>\n",
       "  </tbody>\n",
       "</table>\n",
       "</div>"
      ],
      "text/plain": [
       "   age  sex  cp  trestbps  chol  fbs  restecg  thalach  exang  oldpeak  slope  \\\n",
       "0   63    1   3       145   233    1        0      150      0      2.3      0   \n",
       "1   37    1   2       130   250    0        1      187      0      3.5      0   \n",
       "2   41    0   1       130   204    0        0      172      0      1.4      2   \n",
       "3   56    1   1       120   236    0        1      178      0      0.8      2   \n",
       "4   57    0   0       120   354    0        1      163      1      0.6      2   \n",
       "\n",
       "   ca  thal  target  \n",
       "0   0     1       1  \n",
       "1   0     2       1  \n",
       "2   0     2       1  \n",
       "3   0     2       1  \n",
       "4   0     2       1  "
      ]
     },
     "execution_count": 243,
     "metadata": {},
     "output_type": "execute_result"
    }
   ],
   "source": [
    "path = 'C:\\\\Users\\\\foucardguimax\\\\Desktop\\\\PYTHON\\\\Python3.7\\\\Machine-learnia\\\\Regression\\\\heart.csv'\n",
    "heart_data = pd.read_csv(path)\n",
    "heart_data.head()"
   ]
  },
  {
   "cell_type": "markdown",
   "metadata": {},
   "source": [
    "- age -- > age in years\n",
    "- sex -- > (1 = male; 0 = female)\n",
    "- cp -- > chest pain type\n",
    "- trestbps -- > resting blood pressure (in mm Hg on admission to the hospital)\n",
    "- chol -- > serum cholestoral in mg/dl\n",
    "- fbs -- > (fasting blood sugar > 120 mg/dl) (1 = true; 0 = false)\n",
    "- restecg -- > resting electrocardiographic results\n",
    "- thalach -- > maximum heart rate achieved\n",
    "- exang -- > exercise induced angina (1 = yes; 0 = no)\n",
    "- oldpeak -- > ST depression induced by exercise relative to rest\n",
    "- slope -- > the slope of the peak exercise ST segment\n",
    "- ca -- > number of major vessels (0-3) colored by flourosopy\n",
    "- thal -- > 3 = normal; 6 = fixed defect; 7 = reversable defect\n",
    "- target -- > 1 or 0\n",
    "\n",
    "let's explore the dataset:"
   ]
  },
  {
   "cell_type": "code",
   "execution_count": 244,
   "metadata": {},
   "outputs": [
    {
     "name": "stdout",
     "output_type": "stream",
     "text": [
      "(303, 14)\n"
     ]
    }
   ],
   "source": [
    "print(heart_data.shape)"
   ]
  },
  {
   "cell_type": "code",
   "execution_count": 245,
   "metadata": {},
   "outputs": [
    {
     "data": {
      "text/html": [
       "<div>\n",
       "<style scoped>\n",
       "    .dataframe tbody tr th:only-of-type {\n",
       "        vertical-align: middle;\n",
       "    }\n",
       "\n",
       "    .dataframe tbody tr th {\n",
       "        vertical-align: top;\n",
       "    }\n",
       "\n",
       "    .dataframe thead th {\n",
       "        text-align: right;\n",
       "    }\n",
       "</style>\n",
       "<table border=\"1\" class=\"dataframe\">\n",
       "  <thead>\n",
       "    <tr style=\"text-align: right;\">\n",
       "      <th></th>\n",
       "      <th>age</th>\n",
       "      <th>sex</th>\n",
       "      <th>cp</th>\n",
       "      <th>trestbps</th>\n",
       "      <th>chol</th>\n",
       "      <th>fbs</th>\n",
       "      <th>restecg</th>\n",
       "      <th>thalach</th>\n",
       "      <th>exang</th>\n",
       "      <th>oldpeak</th>\n",
       "      <th>slope</th>\n",
       "      <th>ca</th>\n",
       "      <th>thal</th>\n",
       "      <th>target</th>\n",
       "    </tr>\n",
       "  </thead>\n",
       "  <tbody>\n",
       "    <tr>\n",
       "      <th>count</th>\n",
       "      <td>303.000000</td>\n",
       "      <td>303.000000</td>\n",
       "      <td>303.000000</td>\n",
       "      <td>303.000000</td>\n",
       "      <td>303.000000</td>\n",
       "      <td>303.000000</td>\n",
       "      <td>303.000000</td>\n",
       "      <td>303.000000</td>\n",
       "      <td>303.000000</td>\n",
       "      <td>303.000000</td>\n",
       "      <td>303.000000</td>\n",
       "      <td>303.000000</td>\n",
       "      <td>303.000000</td>\n",
       "      <td>303.000000</td>\n",
       "    </tr>\n",
       "    <tr>\n",
       "      <th>mean</th>\n",
       "      <td>54.366337</td>\n",
       "      <td>0.683168</td>\n",
       "      <td>0.966997</td>\n",
       "      <td>131.623762</td>\n",
       "      <td>246.264026</td>\n",
       "      <td>0.148515</td>\n",
       "      <td>0.528053</td>\n",
       "      <td>149.646865</td>\n",
       "      <td>0.326733</td>\n",
       "      <td>1.039604</td>\n",
       "      <td>1.399340</td>\n",
       "      <td>0.729373</td>\n",
       "      <td>2.313531</td>\n",
       "      <td>0.544554</td>\n",
       "    </tr>\n",
       "    <tr>\n",
       "      <th>std</th>\n",
       "      <td>9.082101</td>\n",
       "      <td>0.466011</td>\n",
       "      <td>1.032052</td>\n",
       "      <td>17.538143</td>\n",
       "      <td>51.830751</td>\n",
       "      <td>0.356198</td>\n",
       "      <td>0.525860</td>\n",
       "      <td>22.905161</td>\n",
       "      <td>0.469794</td>\n",
       "      <td>1.161075</td>\n",
       "      <td>0.616226</td>\n",
       "      <td>1.022606</td>\n",
       "      <td>0.612277</td>\n",
       "      <td>0.498835</td>\n",
       "    </tr>\n",
       "    <tr>\n",
       "      <th>min</th>\n",
       "      <td>29.000000</td>\n",
       "      <td>0.000000</td>\n",
       "      <td>0.000000</td>\n",
       "      <td>94.000000</td>\n",
       "      <td>126.000000</td>\n",
       "      <td>0.000000</td>\n",
       "      <td>0.000000</td>\n",
       "      <td>71.000000</td>\n",
       "      <td>0.000000</td>\n",
       "      <td>0.000000</td>\n",
       "      <td>0.000000</td>\n",
       "      <td>0.000000</td>\n",
       "      <td>0.000000</td>\n",
       "      <td>0.000000</td>\n",
       "    </tr>\n",
       "    <tr>\n",
       "      <th>25%</th>\n",
       "      <td>47.500000</td>\n",
       "      <td>0.000000</td>\n",
       "      <td>0.000000</td>\n",
       "      <td>120.000000</td>\n",
       "      <td>211.000000</td>\n",
       "      <td>0.000000</td>\n",
       "      <td>0.000000</td>\n",
       "      <td>133.500000</td>\n",
       "      <td>0.000000</td>\n",
       "      <td>0.000000</td>\n",
       "      <td>1.000000</td>\n",
       "      <td>0.000000</td>\n",
       "      <td>2.000000</td>\n",
       "      <td>0.000000</td>\n",
       "    </tr>\n",
       "    <tr>\n",
       "      <th>50%</th>\n",
       "      <td>55.000000</td>\n",
       "      <td>1.000000</td>\n",
       "      <td>1.000000</td>\n",
       "      <td>130.000000</td>\n",
       "      <td>240.000000</td>\n",
       "      <td>0.000000</td>\n",
       "      <td>1.000000</td>\n",
       "      <td>153.000000</td>\n",
       "      <td>0.000000</td>\n",
       "      <td>0.800000</td>\n",
       "      <td>1.000000</td>\n",
       "      <td>0.000000</td>\n",
       "      <td>2.000000</td>\n",
       "      <td>1.000000</td>\n",
       "    </tr>\n",
       "    <tr>\n",
       "      <th>75%</th>\n",
       "      <td>61.000000</td>\n",
       "      <td>1.000000</td>\n",
       "      <td>2.000000</td>\n",
       "      <td>140.000000</td>\n",
       "      <td>274.500000</td>\n",
       "      <td>0.000000</td>\n",
       "      <td>1.000000</td>\n",
       "      <td>166.000000</td>\n",
       "      <td>1.000000</td>\n",
       "      <td>1.600000</td>\n",
       "      <td>2.000000</td>\n",
       "      <td>1.000000</td>\n",
       "      <td>3.000000</td>\n",
       "      <td>1.000000</td>\n",
       "    </tr>\n",
       "    <tr>\n",
       "      <th>max</th>\n",
       "      <td>77.000000</td>\n",
       "      <td>1.000000</td>\n",
       "      <td>3.000000</td>\n",
       "      <td>200.000000</td>\n",
       "      <td>564.000000</td>\n",
       "      <td>1.000000</td>\n",
       "      <td>2.000000</td>\n",
       "      <td>202.000000</td>\n",
       "      <td>1.000000</td>\n",
       "      <td>6.200000</td>\n",
       "      <td>2.000000</td>\n",
       "      <td>4.000000</td>\n",
       "      <td>3.000000</td>\n",
       "      <td>1.000000</td>\n",
       "    </tr>\n",
       "  </tbody>\n",
       "</table>\n",
       "</div>"
      ],
      "text/plain": [
       "              age         sex          cp    trestbps        chol         fbs  \\\n",
       "count  303.000000  303.000000  303.000000  303.000000  303.000000  303.000000   \n",
       "mean    54.366337    0.683168    0.966997  131.623762  246.264026    0.148515   \n",
       "std      9.082101    0.466011    1.032052   17.538143   51.830751    0.356198   \n",
       "min     29.000000    0.000000    0.000000   94.000000  126.000000    0.000000   \n",
       "25%     47.500000    0.000000    0.000000  120.000000  211.000000    0.000000   \n",
       "50%     55.000000    1.000000    1.000000  130.000000  240.000000    0.000000   \n",
       "75%     61.000000    1.000000    2.000000  140.000000  274.500000    0.000000   \n",
       "max     77.000000    1.000000    3.000000  200.000000  564.000000    1.000000   \n",
       "\n",
       "          restecg     thalach       exang     oldpeak       slope          ca  \\\n",
       "count  303.000000  303.000000  303.000000  303.000000  303.000000  303.000000   \n",
       "mean     0.528053  149.646865    0.326733    1.039604    1.399340    0.729373   \n",
       "std      0.525860   22.905161    0.469794    1.161075    0.616226    1.022606   \n",
       "min      0.000000   71.000000    0.000000    0.000000    0.000000    0.000000   \n",
       "25%      0.000000  133.500000    0.000000    0.000000    1.000000    0.000000   \n",
       "50%      1.000000  153.000000    0.000000    0.800000    1.000000    0.000000   \n",
       "75%      1.000000  166.000000    1.000000    1.600000    2.000000    1.000000   \n",
       "max      2.000000  202.000000    1.000000    6.200000    2.000000    4.000000   \n",
       "\n",
       "             thal      target  \n",
       "count  303.000000  303.000000  \n",
       "mean     2.313531    0.544554  \n",
       "std      0.612277    0.498835  \n",
       "min      0.000000    0.000000  \n",
       "25%      2.000000    0.000000  \n",
       "50%      2.000000    1.000000  \n",
       "75%      3.000000    1.000000  \n",
       "max      3.000000    1.000000  "
      ]
     },
     "execution_count": 245,
     "metadata": {},
     "output_type": "execute_result"
    }
   ],
   "source": [
    "heart_data.describe(include='all')"
   ]
  },
  {
   "cell_type": "markdown",
   "metadata": {},
   "source": [
    "The dataset looks already cleaned: No missing values, every rows has the same amount of features, numerical data already turned to numerical. We can start to look deeper by presenting some graphs:"
   ]
  },
  {
   "cell_type": "code",
   "execution_count": 246,
   "metadata": {},
   "outputs": [],
   "source": [
    "import matplotlib.pyplot as plt\n",
    "import numpy as np\n",
    "import seaborn as sns\n",
    "sns.set()"
   ]
  },
  {
   "cell_type": "code",
   "execution_count": null,
   "metadata": {},
   "outputs": [],
   "source": []
  },
  {
   "cell_type": "code",
   "execution_count": 247,
   "metadata": {},
   "outputs": [
    {
     "data": {
      "text/plain": [
       "<matplotlib.axes._subplots.AxesSubplot at 0x1e078267588>"
      ]
     },
     "execution_count": 247,
     "metadata": {},
     "output_type": "execute_result"
    },
    {
     "data": {
      "image/png": "[encoded data removed]",
      "text/plain": [
       "<Figure size 432x288 with 1 Axes>"
      ]
     },
     "metadata": {},
     "output_type": "display_data"
    }
   ],
   "source": [
    "sns.boxplot(x = 'target',y = 'age', hue ='sex', data=heart_data)"
   ]
  },
  {
   "cell_type": "code",
   "execution_count": 248,
   "metadata": {},
   "outputs": [
    {
     "data": {
      "text/plain": [
       "<matplotlib.legend.Legend at 0x1e0786ae4c8>"
      ]
     },
     "execution_count": 248,
     "metadata": {},
     "output_type": "execute_result"
    },
    {
     "data": {
      "image/png": "[encoded data removed]",
      "text/plain": [
       "<Figure size 1296x1080 with 4 Axes>"
      ]
     },
     "metadata": {},
     "output_type": "display_data"
    }
   ],
   "source": [
    "fig = plt.figure(figsize=(18,15))\n",
    "female_color = \"#FF33D7\"\n",
    "male_color = \"#00FAFA\"\n",
    "sex_color = \"#FA7D00\"\n",
    "\n",
    "plt.subplot2grid((3,3),(0,0))\n",
    "heart_data['target'].value_counts(normalize=True).plot(kind='bar', alpha = 0.5)\n",
    "plt.title('figure 1: proportion of people with heart disease')\n",
    "plt.xlabel('disease (1 = \"yes\" ; 0 = \"no\")')\n",
    "\n",
    "plt.subplot2grid((3,3),(0,1))\n",
    "heart_data['target'].loc[heart_data['sex'] == 0].value_counts(normalize=True).plot(kind='bar', alpha = 0.5, color = female_color)\n",
    "plt.title('figure 1: proportion of women with heart disease')\n",
    "plt.xlabel('disease (1 = \"yes\" ; 0 = \"no\")')\n",
    "\n",
    "plt.subplot2grid((3,3),(0,2))\n",
    "heart_data['target'].loc[heart_data['sex'] == 1].value_counts(normalize=True).plot(kind='bar', alpha = 0.5, color = male_color)\n",
    "plt.title('figure 1: proportion of men with heart disease')\n",
    "plt.xlabel('disease (1 = \"yes\" ; 0 = \"no\")')\n",
    "\n",
    "plt.subplot2grid((3,3),(1,0),colspan = 4)\n",
    "for x in heart_data['cp'].unique():\n",
    "    heart_data['target'].loc[heart_data['cp'] == x].plot(kind='kde') # Kernel Density Estimation\n",
    "plt.title(\"figure 5: Chest pain wrt Target (Disease)\")\n",
    "plt.legend(heart_data['cp'].unique())"
   ]
  },
  {
   "cell_type": "code",
   "execution_count": 249,
   "metadata": {},
   "outputs": [
    {
     "data": {
      "text/plain": [
       "Text(0.5, 1.0, 'figure 1: thalach of the patients diagnosed with disease')"
      ]
     },
     "execution_count": 249,
     "metadata": {},
     "output_type": "execute_result"
    },
    {
     "data": {
      "image/png": "[encoded data removed]",
      "text/plain": [
       "<Figure size 1296x1080 with 9 Axes>"
      ]
     },
     "metadata": {},
     "output_type": "display_data"
    }
   ],
   "source": [
    "fig = plt.figure(figsize=(18,15))\n",
    "\n",
    "plt.subplot2grid((3,3),(0,0))\n",
    "heart_data['trestbps'].plot(kind='hist', alpha = 0.8)\n",
    "plt.title('figure 1: histogram of the resting blood pressure of the patients')\n",
    "\n",
    "plt.subplot2grid((3,3),(0,1))\n",
    "heart_data['trestbps'].loc[heart_data['target'] == 0].plot(kind='hist', alpha = 0.5, color = 'green')\n",
    "plt.title('figure 1: trestbps of the patients diagnosed without disease')\n",
    "\n",
    "plt.subplot2grid((3,3),(0,2))\n",
    "heart_data['trestbps'].loc[heart_data['target'] == 1].plot(kind='hist', alpha = 0.5, color = 'red')\n",
    "plt.title('figure 1: trestbps of the patients diagnosed with disease')\n",
    "\n",
    "plt.subplot2grid((3,3),(1,0))\n",
    "heart_data['chol'].plot(kind='hist', alpha = 0.8)\n",
    "plt.title('figure 1: histogram of the amount of cholesterol of the patients')\n",
    "\n",
    "plt.subplot2grid((3,3),(1,1))\n",
    "heart_data['chol'].loc[heart_data['target'] == 0].plot(kind='hist', alpha = 0.5, color = 'green')\n",
    "plt.title('figure 1: chol of the patients diagnosed without disease')\n",
    "\n",
    "plt.subplot2grid((3,3),(1,2))\n",
    "heart_data['chol'].loc[heart_data['target'] == 1].plot(kind='hist', alpha = 0.5, color = 'red')\n",
    "plt.title('figure 1: chol of the patients diagnosed with disease')\n",
    "\n",
    "plt.subplot2grid((3,3),(2,0))\n",
    "heart_data['thalach'].plot(kind='hist', alpha = 0.8)\n",
    "plt.title('figure 1: histogram of the maximum heart rate achieved of the patients')\n",
    "\n",
    "plt.subplot2grid((3,3),(2,1))\n",
    "heart_data['thalach'].loc[heart_data['target'] == 0].plot(kind='hist', alpha = 0.5, color = 'green')\n",
    "plt.title('figure 1: thalach of the patients diagnosed without disease')\n",
    "\n",
    "plt.subplot2grid((3,3),(2,2))\n",
    "heart_data['thalach'].loc[heart_data['target'] == 1].plot(kind='hist', alpha = 0.5, color = 'red')\n",
    "\n",
    "plt.title('figure 1: thalach of the patients diagnosed with disease')"
   ]
  },
  {
   "cell_type": "markdown",
   "metadata": {},
   "source": [
    "Given the previous graphs, seems like the features tested can be linked to the target. In the next part, we will only considered the tested features."
   ]
  },
  {
   "cell_type": "code",
   "execution_count": 250,
   "metadata": {},
   "outputs": [
    {
     "name": "stdout",
     "output_type": "stream",
     "text": [
      "(303, 6) (303,)\n"
     ]
    }
   ],
   "source": [
    "features = heart_data[['age', 'sex', 'cp', 'trestbps','chol','thalach']]\n",
    "target = heart_data['target']\n",
    "print(features.shape, target.shape)"
   ]
  },
  {
   "cell_type": "code",
   "execution_count": 251,
   "metadata": {},
   "outputs": [
    {
     "data": {
      "text/plain": [
       "DecisionTreeClassifier(ccp_alpha=0.0, class_weight=None, criterion='gini',\n",
       "                       max_depth=None, max_features=None, max_leaf_nodes=None,\n",
       "                       min_impurity_decrease=0.0, min_impurity_split=None,\n",
       "                       min_samples_leaf=1, min_samples_split=2,\n",
       "                       min_weight_fraction_leaf=0.0, presort='deprecated',\n",
       "                       random_state=None, splitter='best')"
      ]
     },
     "execution_count": 251,
     "metadata": {},
     "output_type": "execute_result"
    }
   ],
   "source": [
    "# Import the relevant libraries\n",
    "#_______________________________________________#\n",
    "from sklearn.tree import DecisionTreeClassifier\n",
    "from sklearn.model_selection import KFold, cross_val_score\n",
    "from sklearn.preprocessing import MinMaxScaler, StandardScaler\n",
    "from sklearn.model_selection import train_test_split\n",
    "from sklearn.preprocessing import PolynomialFeatures\n",
    "\n",
    "# Declare the variables\n",
    "#_______________________________________________#\n",
    "X_not_scaled = features\n",
    "y = target\n",
    "\n",
    "# Preprocess the data\n",
    "#_______________________________________________#\n",
    "scaler = MinMaxScaler() # We create a scaler object here, we now need to fit it to the data and then transform the data...\n",
    "X_scaled = scaler.fit_transform(X_not_scaled) # this is done in one line with the \"fit_transform\" command.\n",
    "\n",
    "# Split the data\n",
    "#_______________________________________________#\n",
    "X_train, X_test, y_train, y_test = train_test_split(X_scaled,y, test_size=0.2, random_state=42) # In order to, later, evaluate our model, we need to split the data into two:\n",
    "# ...One train_set on which we are going to train our models\n",
    "# ...One test_set on which we are goind to test it's accuracy and capacity of prediction\n",
    "# Here we will have 80% of the initial data in the train_set, and 20% in the test_set.\n",
    "cv = KFold(4, random_state = 42, shuffle = True) # We will also use a cross_validation method to train our data more efficiently\n",
    "\n",
    "\n",
    "model_Tree = DecisionTreeClassifier() # Here is the model of LogisticRegression with the chosen hyperparameters\n",
    "model_Tree.fit(X_train,y_train) # We first need to train the model on the train_set"
   ]
  },
  {
   "cell_type": "code",
   "execution_count": 252,
   "metadata": {},
   "outputs": [
    {
     "data": {
      "text/plain": [
       "0.7540983606557377"
      ]
     },
     "execution_count": 252,
     "metadata": {},
     "output_type": "execute_result"
    }
   ],
   "source": [
    "model_Tree.score(X_test,y_test) # And then we can evaluate it on data it never seen."
   ]
  },
  {
   "cell_type": "code",
   "execution_count": 258,
   "metadata": {},
   "outputs": [
    {
     "name": "stdout",
     "output_type": "stream",
     "text": [
      "10\n"
     ]
    }
   ],
   "source": [
    "print(model_Tree.tree_.max_depth)"
   ]
  },
  {
   "cell_type": "code",
   "execution_count": 261,
   "metadata": {},
   "outputs": [
    {
     "name": "stdout",
     "output_type": "stream",
     "text": [
      "1.0 0.7540983606557377 10\n"
     ]
    }
   ],
   "source": [
    "model_Tree_deeper = DecisionTreeClassifier(max_depth = 15)\n",
    "model_Tree_deeper.fit(X_train,y_train)\n",
    "print(model_Tree_deeper.score(X_train,y_train),model_Tree_deeper.score(X_test,y_test), model_Tree_deeper.tree_.max_depth)"
   ]
  },
  {
   "cell_type": "code",
   "execution_count": 264,
   "metadata": {},
   "outputs": [],
   "source": [
    "train_score, test_score, max_depth = [], [], []\n",
    "for i in range(1,20):\n",
    "    clf = DecisionTreeClassifier(max_depth = i)\n",
    "    clf.fit(X_train,y_train)\n",
    "    train_score.append(clf.score(X_train,y_train))\n",
    "    test_score.append(clf.score(X_test,y_test))\n",
    "    max_depth.append(clf.tree_.max_depth)"
   ]
  },
  {
   "cell_type": "code",
   "execution_count": 265,
   "metadata": {},
   "outputs": [
    {
     "data": {
      "image/png": "[encoded data removed]",
      "text/plain": [
       "<Figure size 432x288 with 1 Axes>"
      ]
     },
     "metadata": {},
     "output_type": "display_data"
    }
   ],
   "source": [
    "plt.plot(max_depth, train_score, color = 'red', alpha = 0.7, label = 'train_score')\n",
    "plt.plot(max_depth, test_score, color = 'green', alpha = 0.7, label = 'test_score')\n",
    "plt.legend()\n",
    "plt.title('Train_score and Test_score against the depth of the tree')\n",
    "plt.xlabel('depth')\n",
    "plt.ylabel('score')\n",
    "plt.show()"
   ]
  },
  {
   "cell_type": "markdown",
   "metadata": {},
   "source": [
    "What we can say about this graph:\n",
    "- The maximum depth that can be achieved is ten. With this depth, all the leaves are pure.\n",
    "- The bigger the depth, the bigger the train_score. this leads to overfitting the data.\n",
    "- a depth of 5 seems to be great for this dataset."
   ]
  },
  {
   "cell_type": "markdown",
   "metadata": {},
   "source": [
    "let's build a Grid to choose the best parameters for this classifier on this dataset:"
   ]
  },
  {
   "cell_type": "code",
   "execution_count": 278,
   "metadata": {},
   "outputs": [
    {
     "data": {
      "text/plain": [
       "GridSearchCV(cv=4, error_score=nan,\n",
       "             estimator=DecisionTreeClassifier(ccp_alpha=0.0, class_weight=None,\n",
       "                                              criterion='gini', max_depth=None,\n",
       "                                              max_features=None,\n",
       "                                              max_leaf_nodes=None,\n",
       "                                              min_impurity_decrease=0.0,\n",
       "                                              min_impurity_split=None,\n",
       "                                              min_samples_leaf=1,\n",
       "                                              min_samples_split=2,\n",
       "                                              min_weight_fraction_leaf=0.0,\n",
       "                                              presort='deprecated',\n",
       "                                              random_state=None,\n",
       "                                              splitter='best'),\n",
       "             iid='deprecated', n_jobs=None,\n",
       "             param_grid={'criterion': ['gini', 'entropy'],\n",
       "                         'max_depth': array([ 1,  2,  3,  4,  5,  6,  7,  8,  9, 10, 11, 12, 13, 14, 15, 16, 17,\n",
       "       18, 19]),\n",
       "                         'max_leaf_nodes': [None, 2, 3, 4, 5, 6, 7, 8, 9, 10,\n",
       "                                            11, 12, 13, 14, 15],\n",
       "                         'min_samples_leaf': array([ 2,  3,  4,  5,  6,  7,  8,  9, 10, 11, 12, 13, 14, 15, 16, 17, 18,\n",
       "       19])},\n",
       "             pre_dispatch='2*n_jobs', refit=True, return_train_score=False,\n",
       "             scoring=None, verbose=0)"
      ]
     },
     "execution_count": 278,
     "metadata": {},
     "output_type": "execute_result"
    }
   ],
   "source": [
    "from sklearn.model_selection import GridSearchCV\n",
    "param_grid = {'max_depth' : np.arange(1, 20) , 'max_leaf_nodes': [None, 2,3,4,5,6,7,8,9,10,11,12,13,14,15], 'min_samples_leaf' : np.arange(2,20), 'criterion': ['gini','entropy']} # We build a dictionnary that store as keys the hyperparameters and as values the values we want for he hyperparameter\n",
    "grid = GridSearchCV(DecisionTreeClassifier(), param_grid, cv = 4) # Then we build the grid, fill it with the model, the previous dictionnary and the level of cross validation\n",
    "grid.fit(X_train, y_train) # We now can fit the grid on the train_set"
   ]
  },
  {
   "cell_type": "code",
   "execution_count": 279,
   "metadata": {},
   "outputs": [
    {
     "name": "stdout",
     "output_type": "stream",
     "text": [
      "0.7559426229508197 {'criterion': 'gini', 'max_depth': 5, 'max_leaf_nodes': 12, 'min_samples_leaf': 2}\n"
     ]
    }
   ],
   "source": [
    "print(grid.best_score_, grid.best_params_) # We can acces the best score obtained with the grid and the corresponding parameters with these command lines"
   ]
  },
  {
   "cell_type": "markdown",
   "metadata": {},
   "source": [
    "We will use these hyperparameters to build our tree with:"
   ]
  },
  {
   "cell_type": "code",
   "execution_count": 282,
   "metadata": {},
   "outputs": [
    {
     "data": {
      "text/plain": [
       "0.9016393442622951"
      ]
     },
     "execution_count": 282,
     "metadata": {},
     "output_type": "execute_result"
    }
   ],
   "source": [
    "params = grid.best_params_\n",
    "best_clf = DecisionTreeClassifier(criterion = params['criterion'], max_depth = params['max_depth'], max_leaf_nodes = params['max_leaf_nodes'], min_samples_leaf = params['min_samples_leaf'] )\n",
    "results_log = best_clf.fit(X_train, y_train)\n",
    "results_log.score(X_test, y_test)"
   ]
  },
  {
   "cell_type": "markdown",
   "metadata": {},
   "source": [
    "Le model obtenu est très bon."
   ]
  },
  {
   "cell_type": "code",
   "execution_count": 293,
   "metadata": {},
   "outputs": [],
   "source": [
    "from sklearn.tree import export_graphviz\n",
    "export_graphviz(best_clf, 'tree.dot', feature_names = features.columns)"
   ]
  },
  {
   "attachments": {
    "image.png": {
     "image/png": "[encoded data removed]"
    }
   },
   "cell_type": "markdown",
   "metadata": {},
   "source": [
    "![image.png](attachment:image.png)"
   ]
  },
  {
   "cell_type": "code",
   "execution_count": null,
   "metadata": {},
   "outputs": [],
   "source": []
  }
 ],
 "metadata": {
  "kernelspec": {
   "display_name": "Regression",
   "language": "python",
   "name": "regression"
  },
  "language_info": {
   "codemirror_mode": {
    "name": "ipython",
    "version": 3
   },
   "file_extension": ".py",
   "mimetype": "text/x-python",
   "name": "python",
   "nbconvert_exporter": "python",
   "pygments_lexer": "ipython3",
   "version": "3.7.6"
  }
 },
 "nbformat": 4,
 "nbformat_minor": 4
}
